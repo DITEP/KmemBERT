{
 "cells": [
  {
   "cell_type": "code",
   "execution_count": 2,
   "metadata": {},
   "outputs": [],
   "source": [
    "from kmembert.utils import Config\n",
    "from kmembert.models import TransformerAggregator\n",
    "\n",
    "import torch\n",
    "\n",
    "config = Config()\n",
    "\n",
    "device = torch.device('cuda' if torch.cuda.is_available() else 'cpu')\n",
    "\n",
    "nhead, num_layers, out_dim, time_dim = 4, 2, 2, 8\n",
    "\n",
    "model = TransformerAggregator(device, config, nhead, num_layers, out_dim, time_dim)"
   ]
  },
  {
   "cell_type": "code",
   "execution_count": 3,
   "metadata": {},
   "outputs": [
    {
     "data": {
      "text/plain": [
       "TransformerAggregator(\n",
       "  (t2v): Time2Vec(\n",
       "    (linear): Linear(in_features=1, out_features=8, bias=True)\n",
       "  )\n",
       "  (encoder_layer): TransformerEncoderLayer(\n",
       "    (self_attn): MultiheadAttention(\n",
       "      (out_proj): NonDynamicallyQuantizableLinear(in_features=776, out_features=776, bias=True)\n",
       "    )\n",
       "    (linear1): Linear(in_features=776, out_features=2048, bias=True)\n",
       "    (dropout): Dropout(p=0.1, inplace=False)\n",
       "    (linear2): Linear(in_features=2048, out_features=776, bias=True)\n",
       "    (norm1): LayerNorm((776,), eps=1e-05, elementwise_affine=True)\n",
       "    (norm2): LayerNorm((776,), eps=1e-05, elementwise_affine=True)\n",
       "    (dropout1): Dropout(p=0.1, inplace=False)\n",
       "    (dropout2): Dropout(p=0.1, inplace=False)\n",
       "  )\n",
       "  (transformer_encoder): TransformerEncoder(\n",
       "    (layers): ModuleList(\n",
       "      (0): TransformerEncoderLayer(\n",
       "        (self_attn): MultiheadAttention(\n",
       "          (out_proj): NonDynamicallyQuantizableLinear(in_features=776, out_features=776, bias=True)\n",
       "        )\n",
       "        (linear1): Linear(in_features=776, out_features=2048, bias=True)\n",
       "        (dropout): Dropout(p=0.1, inplace=False)\n",
       "        (linear2): Linear(in_features=2048, out_features=776, bias=True)\n",
       "        (norm1): LayerNorm((776,), eps=1e-05, elementwise_affine=True)\n",
       "        (norm2): LayerNorm((776,), eps=1e-05, elementwise_affine=True)\n",
       "        (dropout1): Dropout(p=0.1, inplace=False)\n",
       "        (dropout2): Dropout(p=0.1, inplace=False)\n",
       "      )\n",
       "      (1): TransformerEncoderLayer(\n",
       "        (self_attn): MultiheadAttention(\n",
       "          (out_proj): NonDynamicallyQuantizableLinear(in_features=776, out_features=776, bias=True)\n",
       "        )\n",
       "        (linear1): Linear(in_features=776, out_features=2048, bias=True)\n",
       "        (dropout): Dropout(p=0.1, inplace=False)\n",
       "        (linear2): Linear(in_features=2048, out_features=776, bias=True)\n",
       "        (norm1): LayerNorm((776,), eps=1e-05, elementwise_affine=True)\n",
       "        (norm2): LayerNorm((776,), eps=1e-05, elementwise_affine=True)\n",
       "        (dropout1): Dropout(p=0.1, inplace=False)\n",
       "        (dropout2): Dropout(p=0.1, inplace=False)\n",
       "      )\n",
       "    )\n",
       "  )\n",
       "  (out_proj): Sequential(\n",
       "    (0): Linear(in_features=776, out_features=776, bias=True)\n",
       "    (1): ReLU(inplace=True)\n",
       "    (2): Linear(in_features=776, out_features=2, bias=True)\n",
       "  )\n",
       "  (MSELoss): MSELoss()\n",
       ")"
      ]
     },
     "execution_count": 3,
     "metadata": {},
     "output_type": "execute_result"
    }
   ],
   "source": [
    "model"
   ]
  },
  {
   "cell_type": "code",
   "execution_count": null,
   "metadata": {},
   "outputs": [],
   "source": []
  }
 ],
 "metadata": {
  "interpreter": {
   "hash": "d30e282fed7dc5f3c8822663add599cc2401cd25887475aec3f8e89f78362c8f"
  },
  "kernelspec": {
   "display_name": "Python 3.7.11 ('kmembert_env')",
   "language": "python",
   "name": "python3"
  },
  "language_info": {
   "codemirror_mode": {
    "name": "ipython",
    "version": 3
   },
   "file_extension": ".py",
   "mimetype": "text/x-python",
   "name": "python",
   "nbconvert_exporter": "python",
   "pygments_lexer": "ipython3",
   "version": "3.7.11"
  },
  "orig_nbformat": 4
 },
 "nbformat": 4,
 "nbformat_minor": 2
}
