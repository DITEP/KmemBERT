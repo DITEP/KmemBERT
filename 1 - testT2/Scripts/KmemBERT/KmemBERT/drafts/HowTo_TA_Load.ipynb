{
 "cells": [
  {
   "cell_type": "code",
   "execution_count": 1,
   "metadata": {},
   "outputs": [
    {
     "name": "stdout",
     "output_type": "stream",
     "text": [
      "\u001b[1mResuming with model at kmembert-T2...\u001b[0m\n",
      "\u001b[92mSuccessfully loaded\n",
      "\u001b[0m\n"
     ]
    }
   ],
   "source": [
    "from kmembert.utils import Config\n",
    "from kmembert.models import TransformerAggregator\n",
    "from kmembert.utils import get_root, now\n",
    "\n",
    "import os\n",
    "import torch\n",
    "\n",
    "resume = \"kmembert-T2\"\n",
    "config = Config()\n",
    "config.resume = resume\n",
    "\n",
    "device = torch.device('cuda' if torch.cuda.is_available() else 'cpu')\n",
    "\n",
    "nhead, num_layers, out_dim, time_dim = 8, 4, 2, 8\n",
    "\n",
    "# Init model\n",
    "model = TransformerAggregator(device, config, nhead, num_layers, out_dim, time_dim)\n",
    "\n",
    "# Load the model\n",
    "model.resume(config)"
   ]
  },
  {
   "cell_type": "code",
   "execution_count": null,
   "metadata": {},
   "outputs": [],
   "source": []
  }
 ],
 "metadata": {
  "interpreter": {
   "hash": "d30e282fed7dc5f3c8822663add599cc2401cd25887475aec3f8e89f78362c8f"
  },
  "kernelspec": {
   "display_name": "Python 3.7.11 ('kmembert_env')",
   "language": "python",
   "name": "python3"
  },
  "language_info": {
   "codemirror_mode": {
    "name": "ipython",
    "version": 3
   },
   "file_extension": ".py",
   "mimetype": "text/x-python",
   "name": "python",
   "nbconvert_exporter": "python",
   "pygments_lexer": "ipython3",
   "version": "3.7.11"
  },
  "orig_nbformat": 4
 },
 "nbformat": 4,
 "nbformat_minor": 2
}
