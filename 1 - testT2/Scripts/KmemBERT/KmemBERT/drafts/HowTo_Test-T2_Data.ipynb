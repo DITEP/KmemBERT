{
 "cells": [
  {
   "cell_type": "code",
   "execution_count": 1,
   "metadata": {},
   "outputs": [
    {
     "data": {
      "text/html": [
       "<div>\n",
       "<style scoped>\n",
       "    .dataframe tbody tr th:only-of-type {\n",
       "        vertical-align: middle;\n",
       "    }\n",
       "\n",
       "    .dataframe tbody tr th {\n",
       "        vertical-align: top;\n",
       "    }\n",
       "\n",
       "    .dataframe thead th {\n",
       "        text-align: right;\n",
       "    }\n",
       "</style>\n",
       "<table border=\"1\" class=\"dataframe\">\n",
       "  <thead>\n",
       "    <tr style=\"text-align: right;\">\n",
       "      <th></th>\n",
       "      <th>Noigr</th>\n",
       "      <th>Date cr</th>\n",
       "      <th>Source</th>\n",
       "      <th>Texte</th>\n",
       "      <th>Date deces</th>\n",
       "    </tr>\n",
       "  </thead>\n",
       "  <tbody>\n",
       "    <tr>\n",
       "      <th>0</th>\n",
       "      <td>12448542</td>\n",
       "      <td>20170511</td>\n",
       "      <td>Compte-rendu de consultation</td>\n",
       "      <td>Compte-rendu de consultation ContenuRCP du Cen...</td>\n",
       "      <td>20171208</td>\n",
       "    </tr>\n",
       "    <tr>\n",
       "      <th>1</th>\n",
       "      <td>12448542</td>\n",
       "      <td>20170612</td>\n",
       "      <td>Compte-rendu de consultation</td>\n",
       "      <td>Compte-rendu de consultation ContenuPatiente v...</td>\n",
       "      <td>20171208</td>\n",
       "    </tr>\n",
       "    <tr>\n",
       "      <th>2</th>\n",
       "      <td>12448542</td>\n",
       "      <td>20170703</td>\n",
       "      <td>Compte-rendu de consultation</td>\n",
       "      <td>Compte-rendu de consultation ContenuAvis sur d...</td>\n",
       "      <td>20171208</td>\n",
       "    </tr>\n",
       "    <tr>\n",
       "      <th>3</th>\n",
       "      <td>12448542</td>\n",
       "      <td>20170928</td>\n",
       "      <td>Compte-rendu de consultation</td>\n",
       "      <td>Compte-rendu de consultation ContenuPatiente v...</td>\n",
       "      <td>20171208</td>\n",
       "    </tr>\n",
       "    <tr>\n",
       "      <th>4</th>\n",
       "      <td>12448542</td>\n",
       "      <td>20171010</td>\n",
       "      <td>Compte-rendu de consultation</td>\n",
       "      <td>Compte-rendu de consultation ContenuPatiente v...</td>\n",
       "      <td>20171208</td>\n",
       "    </tr>\n",
       "  </tbody>\n",
       "</table>\n",
       "</div>"
      ],
      "text/plain": [
       "      Noigr   Date cr                        Source  \\\n",
       "0  12448542  20170511  Compte-rendu de consultation   \n",
       "1  12448542  20170612  Compte-rendu de consultation   \n",
       "2  12448542  20170703  Compte-rendu de consultation   \n",
       "3  12448542  20170928  Compte-rendu de consultation   \n",
       "4  12448542  20171010  Compte-rendu de consultation   \n",
       "\n",
       "                                               Texte  Date deces  \n",
       "0  Compte-rendu de consultation ContenuRCP du Cen...    20171208  \n",
       "1  Compte-rendu de consultation ContenuPatiente v...    20171208  \n",
       "2  Compte-rendu de consultation ContenuAvis sur d...    20171208  \n",
       "3  Compte-rendu de consultation ContenuPatiente v...    20171208  \n",
       "4  Compte-rendu de consultation ContenuPatiente v...    20171208  "
      ]
     },
     "execution_count": 1,
     "metadata": {},
     "output_type": "execute_result"
    }
   ],
   "source": [
    "import pandas as pd\n",
    "\n",
    "df = pd.read_csv(\"C:\\\\Users\\\\DIPIAZZA\\\\Documents\\\\CLB Projet\\\\Projet1\\\\Test Load BERTS\\\\KmemBERT\\\\data\\\\ehr\\\\data_v1.csv\")\n",
    "# Rename columns\n",
    "df = df.rename(columns={'IPPR': 'Noigr', 'DCREA': 'Date cr', \n",
    "                        'DECES': 'Date deces', 'text': 'Texte'})\n",
    "\n",
    "# Change format of columns\n",
    "df['Date cr'] = df['Date cr'].astype(str).apply(lambda x: x.replace('-', '')).astype(int)\n",
    "df['Date deces'] = df['Date deces'].astype(str).apply(lambda x: x.replace('-', '')).astype(int)\n",
    "\n",
    "# Remove columns\n",
    "df = df.drop(['Unnamed: 0', 'DMAJ'], axis=1)\n",
    "df.to_csv(\"C:\\\\Users\\\\DIPIAZZA\\\\Documents\\\\CLB Projet\\\\Projet1\\\\Test Load BERTS\\\\KmemBERT\\\\data\\\\ehr\\\\test.csv\")\n",
    "\n",
    "df.head()"
   ]
  },
  {
   "cell_type": "code",
   "execution_count": null,
   "metadata": {},
   "outputs": [],
   "source": []
  }
 ],
 "metadata": {
  "interpreter": {
   "hash": "d30e282fed7dc5f3c8822663add599cc2401cd25887475aec3f8e89f78362c8f"
  },
  "kernelspec": {
   "display_name": "Python 3.7.11 ('kmembert_env')",
   "language": "python",
   "name": "python3"
  },
  "language_info": {
   "codemirror_mode": {
    "name": "ipython",
    "version": 3
   },
   "file_extension": ".py",
   "mimetype": "text/x-python",
   "name": "python",
   "nbconvert_exporter": "python",
   "pygments_lexer": "ipython3",
   "version": "3.7.11"
  },
  "orig_nbformat": 4
 },
 "nbformat": 4,
 "nbformat_minor": 2
}
