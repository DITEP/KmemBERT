{
 "cells": [
  {
   "cell_type": "code",
   "execution_count": 1,
   "metadata": {},
   "outputs": [
    {
     "name": "stdout",
     "output_type": "stream",
     "text": [
      "\u001b[1m\n",
      "Using mode density (Health BERT checkpoint kmembert-base)\u001b[0m\n",
      "\u001b[1m\n",
      "Loading camembert and its tokenizer...\u001b[0m\n",
      "if config.resume from health_bert.py\n",
      "\u001b[1mResuming with model at kmembert-base...\u001b[0m\n",
      "\u001b[92mSuccessfully loaded\n",
      "\u001b[0m\n"
     ]
    }
   ],
   "source": [
    "from kmembert.utils import Config\n",
    "from kmembert.models import HealthBERT\n",
    "\n",
    "import torch\n",
    "\n",
    "resume = \"kmembert-base\"\n",
    "config = Config()\n",
    "config.resume = resume\n",
    "device = torch.device('cuda' if torch.cuda.is_available() else 'cpu')\n",
    "\n",
    "model = HealthBERT(device, config)"
   ]
  },
  {
   "cell_type": "code",
   "execution_count": null,
   "metadata": {},
   "outputs": [],
   "source": []
  }
 ],
 "metadata": {
  "kernelspec": {
   "display_name": "Python 3.7.11 ('clb_env2')",
   "language": "python",
   "name": "python3"
  },
  "language_info": {
   "codemirror_mode": {
    "name": "ipython",
    "version": 3
   },
   "file_extension": ".py",
   "mimetype": "text/x-python",
   "name": "python",
   "nbconvert_exporter": "python",
   "pygments_lexer": "ipython3",
   "version": "3.7.11"
  },
  "orig_nbformat": 4,
  "vscode": {
   "interpreter": {
    "hash": "3017c399632bdad99ff7d78fdd8a75c4df8c74c804f4832978fc1a75e7107017"
   }
  }
 },
 "nbformat": 4,
 "nbformat_minor": 2
}
