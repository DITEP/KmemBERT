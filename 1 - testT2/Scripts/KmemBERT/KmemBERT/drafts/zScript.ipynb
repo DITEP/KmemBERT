{
 "cells": [
  {
   "cell_type": "code",
   "execution_count": 2,
   "metadata": {},
   "outputs": [],
   "source": [
    "import pandas as pd\n",
    "df = pd.read_csv(\"C:\\\\Users\\\\DIPIAZZA\\\\Documents\\\\CLBProjet\\\\VirtualMachine_T2\\\\KmemBERT\\\\data\\\\ehr\\\\docs_essais\\\\documents_traites_test.csv\")\n",
    "df = df[:20]\n",
    "df.to_csv(\"C:\\\\Users\\\\DIPIAZZA\\\\Documents\\\\CLBProjet\\\\VirtualMachine_T2\\\\KmemBERT\\\\data\\\\ehr\\\\docs_essais\\\\documents_traites_test_2.csv\")"
   ]
  },
  {
   "cell_type": "code",
   "execution_count": null,
   "metadata": {},
   "outputs": [],
   "source": []
  }
 ],
 "metadata": {
  "kernelspec": {
   "display_name": "Python 3.7.11 ('clb_env1')",
   "language": "python",
   "name": "python3"
  },
  "language_info": {
   "codemirror_mode": {
    "name": "ipython",
    "version": 3
   },
   "file_extension": ".py",
   "mimetype": "text/x-python",
   "name": "python",
   "nbconvert_exporter": "python",
   "pygments_lexer": "ipython3",
   "version": "3.7.11"
  },
  "orig_nbformat": 4,
  "vscode": {
   "interpreter": {
    "hash": "867db19fe7a3d126053273bd6259188dddd07a2dbde6b9b3dfcc5f0ceac37c2c"
   }
  }
 },
 "nbformat": 4,
 "nbformat_minor": 2
}
