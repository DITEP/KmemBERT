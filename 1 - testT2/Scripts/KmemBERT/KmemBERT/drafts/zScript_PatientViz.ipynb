{
 "cells": [
  {
   "cell_type": "code",
   "execution_count": 5,
   "metadata": {},
   "outputs": [],
   "source": [
    "import pandas as pd\n",
    "import matplotlib.pyplot as plt\n",
    "import os\n",
    "import argparse\n",
    "import re \n",
    "import json\n",
    "import numpy as np\n",
    "from transformers import CamembertTokenizerFast\n",
    "\n",
    "from kmembert.preprocesser import EHRPreprocesser\n",
    "from kmembert.utils import print_args, get_label\n",
    "from kmembert.preprocessing.extract_unknown_words import in_camembert_voc\n",
    "\n",
    "import pandas as pd\n",
    "import matplotlib.pyplot as plt\n",
    "import numpy as np\n",
    "from datetime import datetime\n",
    "\n",
    "def strDate_to_days(row, date_format = \"%Y-%m-%d\"):\n",
    "    '''\n",
    "        When there's no FLAG_DECES column in the df\n",
    "    '''\n",
    "    a = datetime.strptime(row['Date deces'], date_format)\n",
    "    b = datetime.strptime(row['Date cr'], date_format)\n",
    "    val = (a-b).days\n",
    "    return val\n",
    "\n",
    "def changeFormat(df: pd.DataFrame, flag_GR: bool):\n",
    "    if(flag_GR):\n",
    "        df = df[0].str.split(',', expand=True)\n",
    "        df = df.iloc[1:,[0,2,3]]\n",
    "        df.columns = [\"Noigr\", \"Date deces\", \"Date cr\"]\n",
    "\n",
    "    df['Date cr'] = df['Date cr'].apply(lambda x: str(x) )\n",
    "    df['Date cr'] = df['Date cr'].apply(lambda x: '-'.join([x[:4], x[4:6], x[6:]]))\n",
    "    df['Date deces'] = df['Date deces'].apply(lambda x: str(x) )\n",
    "    df['Date deces'] = df['Date deces'].apply(lambda x: '-'.join([x[:4], x[4:6], x[6:]]))\n",
    "    df['survival_time'] = df.apply(strDate_to_days, axis=1)\n",
    "\n",
    "    return df"
   ]
  },
  {
   "cell_type": "code",
   "execution_count": 6,
   "metadata": {},
   "outputs": [],
   "source": [
    "# Lecture des données\n",
    "# Compter le nombre de documents par patients\n",
    "import pandas as pd \n",
    "\n",
    "result = pd.read_csv(\"doc_toTest\\\\test_rs0.csv\")\n",
    "result = changeFormat(result, False)\n",
    "\n",
    "for i in range(1, 10):\n",
    "    # Read the data\n",
    "    file_name = \"doc_toTest\\\\test_rs\"+str(i)+\".csv\"\n",
    "    df_read = pd.read_csv(file_name)\n",
    "    df_read = changeFormat(df_read, False)\n",
    "    # Concatenate to have all rows\n",
    "    frames = [result, df_read]\n",
    "    result = pd.concat(frames)\n",
    "\n",
    "result = result.drop_duplicates()"
   ]
  },
  {
   "cell_type": "code",
   "execution_count": 7,
   "metadata": {},
   "outputs": [],
   "source": [
    "# Fonction count_sentence qui compte le nombre de sentence\n",
    "def count_sentence(x, tokenizer, preprocesser, voc):\n",
    "    count_token = 0\n",
    "\n",
    "    x[\"Texte\"] = preprocesser(x[\"Texte\"])\n",
    "\n",
    "    known_tokens = 0\n",
    "    for word in re.findall(r'\\w+', x[\"Texte\"]):\n",
    "        word = word.lower()\n",
    "        if in_camembert_voc(word, voc):\n",
    "            known_tokens += 1\n",
    "\n",
    "    nb_tokens = len(tokenizer(x[\"Texte\"], max_length=2000)[\"input_ids\"])\n",
    "    splitted_by_sentence = re.split(r'[.!?]+', str(x[\"Texte\"]))\n",
    "    total_sentence = len(splitted_by_sentence) - 1\n",
    "    for s in splitted_by_sentence :\n",
    "        if len(s): count_token += (len(tokenizer(s)[\"input_ids\"]) - 1)\n",
    "\n",
    "    mean_tokens = count_token / max(1, total_sentence)\n",
    "    return pd.Series([total_sentence, mean_tokens, nb_tokens, known_tokens], index = [\"total_sentence\", \"mean_tokens\", \"nb_tokens\", \"known_tokens\"])"
   ]
  },
  {
   "cell_type": "code",
   "execution_count": 17,
   "metadata": {},
   "outputs": [],
   "source": [
    "# Import tokenizer, preprocessor et voc\n",
    "tokenizer = CamembertTokenizerFast.from_pretrained(\"camembert-base\")\n",
    "preprocessor = EHRPreprocesser()\n",
    "voc = set(tokenizer.get_vocab().keys())"
   ]
  },
  {
   "cell_type": "code",
   "execution_count": 36,
   "metadata": {},
   "outputs": [
    {
     "name": "stderr",
     "output_type": "stream",
     "text": [
      "Token indices sequence length is longer than the specified maximum sequence length for this model (1039 > 512). Running this sequence through the model will result in indexing errors\n"
     ]
    }
   ],
   "source": [
    "df_count = result.apply(lambda x : count_sentence(x, tokenizer, preprocessor, voc), axis=1)"
   ]
  },
  {
   "cell_type": "code",
   "execution_count": 40,
   "metadata": {},
   "outputs": [
    {
     "data": {
      "image/png": "[encoded data removed]",
      "text/plain": [
       "<Figure size 432x288 with 1 Axes>"
      ]
     },
     "metadata": {
      "needs_background": "light"
     },
     "output_type": "display_data"
    }
   ],
   "source": [
    "# EHR by patient\n",
    "plt.figure(1)\n",
    "ehr_by_id = result[\"Noigr\"].value_counts()\n",
    "ehr_by_id.plot.hist(bins=20)\n",
    "plt.title(\"EHR by patient - CLB\")\n",
    "plt.xlabel(\"Number of EHR\")\n",
    "plt.ylabel(\"Count\")\n",
    "plt.savefig(\"ehr_distribution.png\")"
   ]
  },
  {
   "cell_type": "code",
   "execution_count": 41,
   "metadata": {},
   "outputs": [
    {
     "data": {
      "image/png": "[encoded data removed]",
      "text/plain": [
       "<Figure size 432x288 with 1 Axes>"
      ]
     },
     "metadata": {
      "needs_background": "light"
     },
     "output_type": "display_data"
    }
   ],
   "source": [
    "total_sentence_max = df_count[\"total_sentence\"].max()\n",
    "max_value_desired = 150\n",
    "plt.figure(2)\n",
    "plt.xlim((0, min(total_sentence_max, max_value_desired)))\n",
    "df_count[\"total_sentence\"].plot.hist(bins=50)\n",
    "plt.title(\"Sentences per EHR - CLB\")\n",
    "plt.xlabel(\"Nb of sentences\")\n",
    "plt.ylabel(\"Count\")\n",
    "plt.savefig(\"sentences_distribution.png\")"
   ]
  },
  {
   "cell_type": "code",
   "execution_count": 42,
   "metadata": {},
   "outputs": [
    {
     "data": {
      "image/png": "[encoded data removed]",
      "text/plain": [
       "<Figure size 432x288 with 1 Axes>"
      ]
     },
     "metadata": {
      "needs_background": "light"
     },
     "output_type": "display_data"
    }
   ],
   "source": [
    "# Number of tokens per EHR\n",
    "plt.figure()\n",
    "max_tokens = df_count[\"nb_tokens\"].max()\n",
    "nb_tokens_desired = 1500 \n",
    "plt.xlim((0, min(max_tokens, nb_tokens_desired)))\n",
    "df_count[\"nb_tokens\"].plot.hist(bins=100)\n",
    "plt.title(\"Number of tokens per EHR - CLB\")\n",
    "plt.xlabel(\"Total number of tokens\")\n",
    "plt.ylabel(\"Count\")\n",
    "plt.savefig(\"nb_tokens_distribution.png\")"
   ]
  },
  {
   "cell_type": "code",
   "execution_count": 26,
   "metadata": {},
   "outputs": [],
   "source": [
    "# Fonction count_sentence qui compte le nombre de sentence\n",
    "def count_sentence_mean_word(x, tokenizer, preprocesser, voc):\n",
    "    count_token = 0\n",
    "\n",
    "    x[\"Texte\"] = preprocesser(x[\"Texte\"])\n",
    "\n",
    "    known_tokens = 0\n",
    "    for word in re.findall(r'\\w+', x[\"Texte\"]):\n",
    "        known_tokens += 1\n",
    "    splitted_by_sentence = re.split(r'[.!?]+', str(x[\"Texte\"]))\n",
    "    total_sentence = len(splitted_by_sentence)\n",
    "    \n",
    "    mean_word_sequence = known_tokens/total_sentence\n",
    "\n",
    "    mean_tokens = count_token / max(1, total_sentence)\n",
    "    return pd.Series([mean_word_sequence], index = [\"mean_tokens\"])"
   ]
  },
  {
   "cell_type": "code",
   "execution_count": 43,
   "metadata": {},
   "outputs": [],
   "source": [
    "df_count = result.apply(lambda x : count_sentence_mean_word(x, tokenizer, preprocessor, voc), axis=1)"
   ]
  },
  {
   "cell_type": "code",
   "execution_count": 44,
   "metadata": {},
   "outputs": [
    {
     "data": {
      "image/png": "[encoded data removed]",
      "text/plain": [
       "<Figure size 432x288 with 1 Axes>"
      ]
     },
     "metadata": {
      "needs_background": "light"
     },
     "output_type": "display_data"
    }
   ],
   "source": [
    "# Mean Words Per Sentence per EHR\n",
    "plt.figure()\n",
    "max_mean_tokens = df_count[\"mean_tokens\"].max()\n",
    "max_mean_tokens_desired = 200 \n",
    "plt.xlim((0, min(max_mean_tokens, max_mean_tokens_desired)))\n",
    "df_count[\"mean_tokens\"].plot.hist(bins=100)\n",
    "plt.title(\"Mean words per sentence per EHR - CLB\")\n",
    "plt.xlabel(\"Mean number of words\")\n",
    "plt.savefig(\"mean_words_distribution.png\")"
   ]
  },
  {
   "cell_type": "code",
   "execution_count": null,
   "metadata": {},
   "outputs": [],
   "source": []
  }
 ],
 "metadata": {
  "interpreter": {
   "hash": "3017c399632bdad99ff7d78fdd8a75c4df8c74c804f4832978fc1a75e7107017"
  },
  "kernelspec": {
   "display_name": "Python 3.7.11 ('clb_env2')",
   "language": "python",
   "name": "python3"
  },
  "language_info": {
   "codemirror_mode": {
    "name": "ipython",
    "version": 3
   },
   "file_extension": ".py",
   "mimetype": "text/x-python",
   "name": "python",
   "nbconvert_exporter": "python",
   "pygments_lexer": "ipython3",
   "version": "3.7.11"
  },
  "orig_nbformat": 4
 },
 "nbformat": 4,
 "nbformat_minor": 2
}
