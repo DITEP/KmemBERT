{
 "cells": [
  {
   "cell_type": "markdown",
   "metadata": {},
   "source": [
    "#### Librairies et lecture des jeux de données"
   ]
  },
  {
   "cell_type": "code",
   "execution_count": 1,
   "metadata": {},
   "outputs": [],
   "source": [
    "# Import libraries\n",
    "import numpy as np\n",
    "import pandas as pd\n",
    "import argparse\n",
    "from torch.serialization import save\n",
    "from transformers_interpret import SequenceClassificationExplainer\n",
    "import matplotlib.pyplot as plt\n",
    "\n",
    "from kmembert.models import HealthBERT\n",
    "from kmembert.utils import create_session"
   ]
  },
  {
   "cell_type": "code",
   "execution_count": 2,
   "metadata": {},
   "outputs": [],
   "source": [
    "# Import argparse\n",
    "import argparse\n",
    "parser = argparse.ArgumentParser()\n",
    "parser.add_argument(\"-d\", \"--data_folder\", type=str, default=\"data/ehr/test.csv\", \n",
    "    help=\"data path to access to the testing file\")\n",
    "parser.add_argument(\"-p\", \"--path_dataset\", type=str, default=\"data/ehr/test.csv\", \n",
    "    help=\"data path to access to the testing file\")\n",
    "parser.add_argument(\"-r\", \"--resume\", type=str, default=\"kmembert-base\", \n",
    "    help=\"result folder in with the saved checkpoint will be reused\")\n",
    "parser.add_argument(\"-nr\", \"--nrows\", type=int, default=10, \n",
    "    help=\"maximum number of samples for testing\")\n",
    "parser.add_argument(\"-f\", \"--folder_to_save\", type=str, default=\"graphs\", \n",
    "    help=\"folder to save the figures\")\n",
    "parser.add_argument(\"-ng\", \"--noigr\", type=int, default=2, \n",
    "    help=\"The Noigr of a patient\")\n",
    "args = parser.parse_args(\"\")"
   ]
  },
  {
   "cell_type": "code",
   "execution_count": 3,
   "metadata": {},
   "outputs": [],
   "source": [
    "# Read df used to test\n",
    "# Creation du jeu de donnees pour retrouver les infos interessantes\n",
    "test = pd.read_csv(\"kmembert\\\\Visualization\\\\test_VM.csv\")\n",
    "\n",
    "# Read df with prediction\n",
    "res_pred = pd.read_csv(\"kmembert\\\\Visualization\\\\results_pred_VM.csv\")\n",
    "\n",
    "# Merge 2 dataframes\n",
    "resul_df = pd.merge(test, res_pred, left_on=\"indice\", right_on=\"ind\")[['Noigr', 'Date cr', 'Date deces', 'Texte', 'indice', 'pred', 'lab']]\n",
    "\n",
    "# Add columns to have absolute error between pred and lab\n",
    "resul_df['ecart'] = abs(resul_df['pred']-resul_df['lab'])\n",
    "\n",
    "resul_df['nb_words'] = resul_df['Texte'].apply(lambda x: len(x.split()))\n",
    "\n",
    "resul_df['nb_docs'] = resul_df.groupby([\"Noigr\"])[\"Noigr\"].transform(\"count\")\n",
    "\n",
    "resul_df = resul_df.sort_values(\"ecart\", ascending=False)"
   ]
  },
  {
   "cell_type": "markdown",
   "metadata": {},
   "source": [
    "#### Modification du jeu de données"
   ]
  },
  {
   "cell_type": "code",
   "execution_count": 13,
   "metadata": {},
   "outputs": [
    {
     "name": "stderr",
     "output_type": "stream",
     "text": [
      "c:\\Users\\DIPIAZZA\\Anaconda3\\envs\\clb_env2\\lib\\site-packages\\ipykernel_launcher.py:29: SettingWithCopyWarning: \n",
      "A value is trying to be set on a copy of a slice from a DataFrame.\n",
      "Try using .loc[row_indexer,col_indexer] = value instead\n",
      "\n",
      "See the caveats in the documentation: https://pandas.pydata.org/pandas-docs/stable/user_guide/indexing.html#returning-a-view-versus-a-copy\n"
     ]
    },
    {
     "data": {
      "text/html": [
       "<div>\n",
       "<style scoped>\n",
       "    .dataframe tbody tr th:only-of-type {\n",
       "        vertical-align: middle;\n",
       "    }\n",
       "\n",
       "    .dataframe tbody tr th {\n",
       "        vertical-align: top;\n",
       "    }\n",
       "\n",
       "    .dataframe thead th {\n",
       "        text-align: right;\n",
       "    }\n",
       "</style>\n",
       "<table border=\"1\" class=\"dataframe\">\n",
       "  <thead>\n",
       "    <tr style=\"text-align: right;\">\n",
       "      <th></th>\n",
       "      <th>Noigr</th>\n",
       "      <th>Date cr</th>\n",
       "      <th>Date deces</th>\n",
       "      <th>Texte</th>\n",
       "      <th>indice</th>\n",
       "      <th>pred</th>\n",
       "      <th>lab</th>\n",
       "      <th>ecart</th>\n",
       "      <th>nb_words</th>\n",
       "      <th>nb_docs</th>\n",
       "      <th>Kar_FLAG</th>\n",
       "      <th>Kar_count</th>\n",
       "    </tr>\n",
       "  </thead>\n",
       "  <tbody>\n",
       "    <tr>\n",
       "      <th>4578</th>\n",
       "      <td>4443257</td>\n",
       "      <td>20141230</td>\n",
       "      <td>20150122</td>\n",
       "      <td>Karnofsky = 40 %, PS = 3.  Présents : Oncologu...</td>\n",
       "      <td>4578</td>\n",
       "      <td>0.122051</td>\n",
       "      <td>0.983489</td>\n",
       "      <td>0.861438</td>\n",
       "      <td>95</td>\n",
       "      <td>66</td>\n",
       "      <td>Karnofsky &lt; 40 %</td>\n",
       "      <td>215</td>\n",
       "    </tr>\n",
       "    <tr>\n",
       "      <th>24272</th>\n",
       "      <td>2828445</td>\n",
       "      <td>20120105</td>\n",
       "      <td>20180131</td>\n",
       "      <td>Karnofsky = 30 %, PS = 4, Poids actuel = 65,0 ...</td>\n",
       "      <td>24272</td>\n",
       "      <td>0.110985</td>\n",
       "      <td>0.940170</td>\n",
       "      <td>0.829185</td>\n",
       "      <td>192</td>\n",
       "      <td>32</td>\n",
       "      <td>Karnofsky &lt; 40 %</td>\n",
       "      <td>215</td>\n",
       "    </tr>\n",
       "  </tbody>\n",
       "</table>\n",
       "</div>"
      ],
      "text/plain": [
       "         Noigr   Date cr  Date deces  \\\n",
       "4578   4443257  20141230    20150122   \n",
       "24272  2828445  20120105    20180131   \n",
       "\n",
       "                                                   Texte  indice      pred  \\\n",
       "4578   Karnofsky = 40 %, PS = 3.  Présents : Oncologu...    4578  0.122051   \n",
       "24272  Karnofsky = 30 %, PS = 4, Poids actuel = 65,0 ...   24272  0.110985   \n",
       "\n",
       "            lab     ecart  nb_words  nb_docs          Kar_FLAG  Kar_count  \n",
       "4578   0.983489  0.861438        95       66  Karnofsky < 40 %        215  \n",
       "24272  0.940170  0.829185       192       32  Karnofsky < 40 %        215  "
      ]
     },
     "execution_count": 13,
     "metadata": {},
     "output_type": "execute_result"
    }
   ],
   "source": [
    "# Add Karnofsky_FLAG_0... to show which PS it is\n",
    "resul_df['K_flag_1'] = resul_df['Texte'].apply(lambda x: \"Karnofsky = 10 %\" in x)\n",
    "resul_df['K_flag_2'] = resul_df['Texte'].apply(lambda x: \"Karnofsky = 20 %\" in x)\n",
    "resul_df['K_flag_3'] = resul_df['Texte'].apply(lambda x: \"Karnofsky = 30 %\" in x)\n",
    "resul_df['K_flag_4'] = resul_df['Texte'].apply(lambda x: \"Karnofsky = 40 %\" in x)\n",
    "resul_df['K_flag_5'] = resul_df['Texte'].apply(lambda x: \"Karnofsky = 50 %\" in x)\n",
    "resul_df['K_flag_6'] = resul_df['Texte'].apply(lambda x: \"Karnofsky = 60 %\" in x)\n",
    "resul_df['K_flag_7'] = resul_df['Texte'].apply(lambda x: \"Karnofsky = 70 %\" in x)\n",
    "resul_df['K_flag_8'] = resul_df['Texte'].apply(lambda x: \"Karnofsky = 80 %\" in x)\n",
    "resul_df['K_flag_9'] = resul_df['Texte'].apply(lambda x: \"Karnofsky = 90 %\" in x)\n",
    "resul_df['K_flag_10'] = resul_df['Texte'].apply(lambda x: \"Karnofsky = 100 %\" in x)\n",
    "\n",
    "# Add Karnofsky_flag to show which Karnofsky it is\n",
    "# create a list of our conditions\n",
    "conditions = [\n",
    "    (resul_df['K_flag_1'] == True) | (resul_df['K_flag_2'] == True),\n",
    "    (resul_df['K_flag_3'] == True) | (resul_df['K_flag_4'] == True),\n",
    "    (resul_df['K_flag_5'] == True) | (resul_df['K_flag_6'] == True),\n",
    "    (resul_df['K_flag_7'] == True) | (resul_df['K_flag_8'] == True),\n",
    "    (resul_df['K_flag_9'] == True) | (resul_df['K_flag_10'] == True)]\n",
    "\n",
    "# create a list of the values we want to assign for each condition\n",
    "values = [\"Karnofsky < 20 %\", \"Karnofsky < 40 %\", \"Karnofsky < 60 %\", \"Karnofsky < 80 %\", \"Karnofsky < 100 %\"]\n",
    "\n",
    "resul_df['Kar_FLAG'] = np.select(conditions, values)\n",
    "resul_df_Kar = resul_df[resul_df.Kar_FLAG != '0']\n",
    "\n",
    "# Number of occurences per type\n",
    "resul_df_Kar['Kar_count'] = resul_df_Kar.groupby([\"Kar_FLAG\"])[\"Kar_FLAG\"].transform(\"count\")\n",
    "\n",
    "resul_df_Kar = resul_df_Kar.drop(['K_flag_1', 'K_flag_2', 'K_flag_3', 'K_flag_4', 'K_flag_5', \n",
    "                    'K_flag_6', 'K_flag_7', 'K_flag_8', 'K_flag_9', 'K_flag_10'], axis = 1)\n",
    "\n",
    "resul_df_Kar.head(2)"
   ]
  },
  {
   "cell_type": "markdown",
   "metadata": {},
   "source": [
    "#### Test statistique : Kruskal"
   ]
  },
  {
   "cell_type": "code",
   "execution_count": 14,
   "metadata": {},
   "outputs": [
    {
     "name": "stdout",
     "output_type": "stream",
     "text": [
      "Kruskal, pvalue:  KruskalResult(statistic=632.7534594247377, pvalue=1.26155783201403e-135)\n",
      "Anova, pvalue:  F_onewayResult(statistic=176.9766471737094, pvalue=2.6379870611951666e-146)\n"
     ]
    }
   ],
   "source": [
    "# Test Statistique sur les différences de temps de survie des patients : Valeures observees\n",
    "from scipy import stats\n",
    "import matplotlib.pyplot as plt\n",
    "import seaborn as sns\n",
    "\n",
    "a = resul_df_Kar[resul_df_Kar.Kar_FLAG==\"Karnofsky < 20 %\"]['lab']\n",
    "b = resul_df_Kar[resul_df_Kar.Kar_FLAG==\"Karnofsky < 40 %\"]['lab']\n",
    "c = resul_df_Kar[resul_df_Kar.Kar_FLAG==\"Karnofsky < 60 %\"]['lab']\n",
    "d = resul_df_Kar[resul_df_Kar.Kar_FLAG==\"Karnofsky < 80 %\"]['lab']\n",
    "e = resul_df_Kar[resul_df_Kar.Kar_FLAG==\"Karnofsky < 100 %\"]['lab']\n",
    "print(\"Kruskal, pvalue: \", stats.kruskal(a, b, c, d, e))\n",
    "print(\"Anova, pvalue: \", stats.f_oneway(a, b, c, e, e))"
   ]
  },
  {
   "cell_type": "code",
   "execution_count": 15,
   "metadata": {},
   "outputs": [
    {
     "name": "stdout",
     "output_type": "stream",
     "text": [
      "Kruskal, pvalue:  KruskalResult(statistic=1187.4849097317278, pvalue=8.227295974113137e-256)\n",
      "Anova, pvalue:  F_onewayResult(statistic=352.2408738980537, pvalue=1.2601926432768608e-282)\n"
     ]
    }
   ],
   "source": [
    "# Test Statistique sur les différences de temps de survie des patients : Valeures observees\n",
    "from scipy import stats\n",
    "import matplotlib.pyplot as plt\n",
    "import seaborn as sns\n",
    "\n",
    "a = resul_df_Kar[resul_df_Kar.Kar_FLAG==\"Karnofsky < 20 %\"]['pred']\n",
    "b = resul_df_Kar[resul_df_Kar.Kar_FLAG==\"Karnofsky < 40 %\"]['pred']\n",
    "c = resul_df_Kar[resul_df_Kar.Kar_FLAG==\"Karnofsky < 60 %\"]['pred']\n",
    "d = resul_df_Kar[resul_df_Kar.Kar_FLAG==\"Karnofsky < 80 %\"]['pred']\n",
    "e = resul_df_Kar[resul_df_Kar.Kar_FLAG==\"Karnofsky < 100 %\"]['pred']\n",
    "print(\"Kruskal, pvalue: \", stats.kruskal(a, b, c, d, e))\n",
    "print(\"Anova, pvalue: \", stats.f_oneway(a, b, c, e, e))"
   ]
  },
  {
   "cell_type": "markdown",
   "metadata": {},
   "source": [
    "#### BoxPlot"
   ]
  },
  {
   "cell_type": "code",
   "execution_count": 26,
   "metadata": {},
   "outputs": [
    {
     "data": {
      "text/plain": [
       "Text(0.5, 1.0, 'BoxPlot - Survival label per Karnofsky Value')"
      ]
     },
     "execution_count": 26,
     "metadata": {},
     "output_type": "execute_result"
    },
    {
     "data": {
      "image/png": "[encoded data removed]",
      "text/plain": [
       "<Figure size 432x288 with 1 Axes>"
      ]
     },
     "metadata": {
      "needs_background": "light"
     },
     "output_type": "display_data"
    }
   ],
   "source": [
    "# BoxPlot - Survival Time per Kernofsky - Observed Values\n",
    "fig = plt.figure()\n",
    "ax = plt.subplot(111)\n",
    "\n",
    "sns.boxplot(x='Kar_FLAG', y='lab', data=resul_df_Kar, \n",
    "        order=[\"Karnofsky < 20 %\", \"Karnofsky < 40 %\", \"Karnofsky < 60 %\", \"Karnofsky < 80 %\", \"Karnofsky < 100 %\"], \n",
    "        palette='rocket_r')\n",
    "plt.xlabel(\"Karnofsky Interval Value\")\n",
    "plt.xticks(rotation=20)\n",
    "ax.set_xticklabels([\"[0%, 20%]\", \"]20%, 40%]\", \"]40%, 60%]\", \"]60%, 80%]\", \"]80%, 100%]\"])\n",
    "plt.ylabel(\"Label\")\n",
    "plt.title(\"BoxPlot - Survival label per Karnofsky Value\")"
   ]
  },
  {
   "cell_type": "code",
   "execution_count": 27,
   "metadata": {},
   "outputs": [
    {
     "data": {
      "text/plain": [
       "Text(0.5, 1.0, 'BoxPlot - Survival label per Karnofsky Value')"
      ]
     },
     "execution_count": 27,
     "metadata": {},
     "output_type": "execute_result"
    },
    {
     "data": {
      "image/png": "[encoded data removed]",
      "text/plain": [
       "<Figure size 432x288 with 1 Axes>"
      ]
     },
     "metadata": {
      "needs_background": "light"
     },
     "output_type": "display_data"
    }
   ],
   "source": [
    "# BoxPlot - Survival Time per Kernofsky - Predicted Values\n",
    "fig = plt.figure()\n",
    "ax = plt.subplot(111)\n",
    "\n",
    "sns.boxplot(x='Kar_FLAG', y='pred', data=resul_df_Kar, \n",
    "        order=[\"Karnofsky < 20 %\", \"Karnofsky < 40 %\", \"Karnofsky < 60 %\", \"Karnofsky < 80 %\", \"Karnofsky < 100 %\"], \n",
    "        palette='rocket_r')\n",
    "plt.xlabel(\"Karnofsky Interval Value\")\n",
    "plt.xticks(rotation=20)\n",
    "ax.set_xticklabels([\"[0%, 20%]\", \"]20%, 40%]\", \"]40%, 60%]\", \"]60%, 80%]\", \"]80%, 100%]\"])\n",
    "plt.ylabel(\"Label\")\n",
    "plt.title(\"BoxPlot - Survival label per Karnofsky Value\")"
   ]
  },
  {
   "cell_type": "code",
   "execution_count": 40,
   "metadata": {},
   "outputs": [
    {
     "data": {
      "text/plain": [
       "Text(3.925, -0.22, '4067')"
      ]
     },
     "execution_count": 40,
     "metadata": {},
     "output_type": "execute_result"
    },
    {
     "data": {
      "image/png": "[encoded data removed]",
      "text/plain": [
       "<Figure size 432x288 with 1 Axes>"
      ]
     },
     "metadata": {
      "needs_background": "light"
     },
     "output_type": "display_data"
    }
   ],
   "source": [
    "# BoxPlot - Survival Time per PS - Prediction and Observed Label\n",
    "fig = plt.figure()\n",
    "ax = plt.subplot(111)\n",
    "\n",
    "# Ajustement du jeu de données\n",
    "df_plot = resul_df_Kar.melt(id_vars='Kar_FLAG', value_vars=[\"lab\", \"pred\"])\n",
    "df_plot['variable'] = df_plot['variable'].replace('lab', 'Label')\n",
    "df_plot['variable'] = df_plot['variable'].replace('pred', 'Prediction')\n",
    "\n",
    "# Plot\n",
    "sns.boxplot(x='Kar_FLAG', y='value', hue='variable', data=df_plot, \n",
    "            order=[\"Karnofsky < 20 %\", \"Karnofsky < 40 %\", \"Karnofsky < 60 %\", \"Karnofsky < 80 %\", \"Karnofsky < 100 %\"], \n",
    "            palette=['peachpuff', 'lightcoral'])#'rocket_r')\n",
    "plt.xlabel(\"Karnofsky Interval Value\")\n",
    "plt.ylabel(\"Probability\")\n",
    "plt.title(\"BoxPlot - Survival probability per Karnofsky Value\")\n",
    "\n",
    "# Put a legend below current axis\n",
    "ax.legend(loc='upper center', bbox_to_anchor=(0.5, -0.23),\n",
    "          fancybox=True, shadow=True, ncol=5)\n",
    "ax.set_xticklabels([\"[0%, 20%]\", \"]20%, 40%]\", \"]40%, 60%]\", \"]60%, 80%]\", \"]80%, 100%]\"])\n",
    "ax.xaxis.set_label_coords(0.5, -0.2)\n",
    "# Plot text\n",
    "plt.text(-0.175, -0.22, '40', fontsize = 10, fontweight='bold', size=8, color='black', bbox=dict(facecolor='moccasin'))\n",
    "plt.text(-0.175+1, -0.22, '215', fontsize = 10, fontweight='bold', size=8, color='black', bbox=dict(facecolor='moccasin'))\n",
    "plt.text(-0.175+2, -0.22, '823', fontsize = 10, fontweight='bold', size=8, color='black', bbox=dict(facecolor='moccasin'))\n",
    "plt.text(-0.175+3.05, -0.22, '4096', fontsize = 10, fontweight='bold', size=8, color='black', bbox=dict(facecolor='moccasin'))\n",
    "plt.text(-0.175+4.1, -0.22, '4067', fontsize = 10, fontweight='bold', size=8, color='black', bbox=dict(facecolor='moccasin'))"
   ]
  }
 ],
 "metadata": {
  "interpreter": {
   "hash": "3017c399632bdad99ff7d78fdd8a75c4df8c74c804f4832978fc1a75e7107017"
  },
  "kernelspec": {
   "display_name": "Python 3.7.11 ('clb_env2')",
   "language": "python",
   "name": "python3"
  },
  "language_info": {
   "codemirror_mode": {
    "name": "ipython",
    "version": 3
   },
   "file_extension": ".py",
   "mimetype": "text/x-python",
   "name": "python",
   "nbconvert_exporter": "python",
   "pygments_lexer": "ipython3",
   "version": "3.7.11"
  },
  "orig_nbformat": 4
 },
 "nbformat": 4,
 "nbformat_minor": 2
}
