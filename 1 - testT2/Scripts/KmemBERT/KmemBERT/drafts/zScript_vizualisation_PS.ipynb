{
 "cells": [
  {
   "cell_type": "markdown",
   "metadata": {},
   "source": [
    "#### Librairies et lecture des jeux de données"
   ]
  },
  {
   "cell_type": "code",
   "execution_count": null,
   "metadata": {},
   "outputs": [],
   "source": [
    "# Import libraries\n",
    "import numpy as np\n",
    "import pandas as pd\n",
    "import argparse\n",
    "from torch.serialization import save\n",
    "from transformers_interpret import SequenceClassificationExplainer\n",
    "import matplotlib.pyplot as plt\n",
    "\n",
    "from kmembert.models import HealthBERT\n",
    "from kmembert.utils import create_session"
   ]
  },
  {
   "cell_type": "code",
   "execution_count": null,
   "metadata": {},
   "outputs": [],
   "source": [
    "# Import argparse\n",
    "import argparse\n",
    "parser = argparse.ArgumentParser()\n",
    "parser.add_argument(\"-d\", \"--data_folder\", type=str, default=\"data/ehr/test.csv\", \n",
    "    help=\"data path to access to the testing file\")\n",
    "parser.add_argument(\"-p\", \"--path_dataset\", type=str, default=\"data/ehr/test.csv\", \n",
    "    help=\"data path to access to the testing file\")\n",
    "parser.add_argument(\"-r\", \"--resume\", type=str, default=\"kmembert-base\", \n",
    "    help=\"result folder in with the saved checkpoint will be reused\")\n",
    "parser.add_argument(\"-nr\", \"--nrows\", type=int, default=10, \n",
    "    help=\"maximum number of samples for testing\")\n",
    "parser.add_argument(\"-f\", \"--folder_to_save\", type=str, default=\"graphs\", \n",
    "    help=\"folder to save the figures\")\n",
    "parser.add_argument(\"-ng\", \"--noigr\", type=int, default=2, \n",
    "    help=\"The Noigr of a patient\")\n",
    "args = parser.parse_args(\"\")"
   ]
  },
  {
   "cell_type": "code",
   "execution_count": null,
   "metadata": {},
   "outputs": [],
   "source": [
    "# Read df used to test\n",
    "# Creation du jeu de donnees pour retrouver les infos interessantes\n",
    "test = pd.read_csv(\"kmembert\\\\Visualization\\\\test_VM.csv\")\n",
    "\n",
    "# Read df with prediction\n",
    "res_pred = pd.read_csv(\"kmembert\\\\Visualization\\\\results_pred_VM.csv\")\n",
    "\n",
    "# Merge 2 dataframes\n",
    "resul_df = pd.merge(test, res_pred, left_on=\"indice\", right_on=\"ind\")[['Noigr', 'Date cr', 'Date deces', 'Texte', 'indice', 'pred', 'lab']]\n",
    "\n",
    "# Add columns to have absolute error between pred and lab\n",
    "resul_df['ecart'] = abs(resul_df['pred']-resul_df['lab'])\n",
    "\n",
    "resul_df['nb_words'] = resul_df['Texte'].apply(lambda x: len(x.split()))\n",
    "\n",
    "resul_df['nb_docs'] = resul_df.groupby([\"Noigr\"])[\"Noigr\"].transform(\"count\")\n",
    "\n",
    "resul_df = resul_df.sort_values(\"ecart\", ascending=False)"
   ]
  },
  {
   "cell_type": "markdown",
   "metadata": {},
   "source": [
    "#### Modification du jeu de données"
   ]
  },
  {
   "cell_type": "code",
   "execution_count": null,
   "metadata": {},
   "outputs": [],
   "source": [
    "# Add PS_FLAG_0... to show which PS it is\n",
    "resul_df['PS_flag_4'] = resul_df['Texte'].apply(lambda x: \"PS = 4\" in x)\n",
    "resul_df['PS_flag_3'] = resul_df['Texte'].apply(lambda x: \"PS = 3\" in x)\n",
    "resul_df['PS_flag_2'] = resul_df['Texte'].apply(lambda x: \"PS = 2\" in x)\n",
    "resul_df['PS_flag_1'] = resul_df['Texte'].apply(lambda x: \"PS = 1\" in x)\n",
    "resul_df['PS_flag_0'] = resul_df['Texte'].apply(lambda x: \"PS = 0\" in x)"
   ]
  },
  {
   "cell_type": "code",
   "execution_count": null,
   "metadata": {},
   "outputs": [],
   "source": [
    "# Add PS_flag to show which PS it is\n",
    "# create a list of our conditions\n",
    "conditions = [\n",
    "    (resul_df['PS_flag_0'] == True),\n",
    "    (resul_df['PS_flag_1'] == True),\n",
    "    (resul_df['PS_flag_2'] == True),\n",
    "    (resul_df['PS_flag_3'] == True),\n",
    "    (resul_df['PS_flag_4'] == True),\n",
    "    ]\n",
    "\n",
    "# create a list of the values we want to assign for each condition\n",
    "values = ['PS=0', 'PS=1', 'PS=2', 'PS=3', 'PS=4']\n",
    "\n",
    "resul_df['PS_flag'] = np.select(conditions, values)\n",
    "resul_df_PS = resul_df[resul_df.PS_flag != '0']\n",
    "\n",
    "# Number of occurences per type\n",
    "resul_df_PS['PS_count'] = resul_df_PS.groupby([\"PS_flag\"])[\"PS_flag\"].transform(\"count\")\n",
    "\n",
    "resul_df_PS.head(2)"
   ]
  },
  {
   "cell_type": "markdown",
   "metadata": {},
   "source": [
    "#### Test statistique : Kruskal"
   ]
  },
  {
   "cell_type": "code",
   "execution_count": null,
   "metadata": {},
   "outputs": [],
   "source": [
    "# Test Statistique sur les différences de temps de survie des patients : Valeures observees\n",
    "from scipy import stats\n",
    "import matplotlib.pyplot as plt\n",
    "import seaborn as sns\n",
    "\n",
    "a = resul_df_PS[resul_df_PS.PS_flag=='PS=0']['lab']\n",
    "b = resul_df_PS[resul_df_PS.PS_flag=='PS=1']['lab']\n",
    "c = resul_df_PS[resul_df_PS.PS_flag=='PS=2']['lab']\n",
    "d = resul_df_PS[resul_df_PS.PS_flag=='PS=3']['lab']\n",
    "e = resul_df_PS[resul_df_PS.PS_flag=='PS=4']['lab']\n",
    "print(\"Kruskal, pvalue: \", stats.kruskal(a, b, c, d, e))\n",
    "print(\"Anova, pvalue: \", stats.f_oneway(a, b, c, e, e))"
   ]
  },
  {
   "cell_type": "code",
   "execution_count": null,
   "metadata": {},
   "outputs": [],
   "source": [
    "# Test Statistique sur les différences de temps de survie des patients : Valeures predites\n",
    "from scipy import stats\n",
    "import matplotlib.pyplot as plt\n",
    "import seaborn as sns\n",
    "\n",
    "a = resul_df_PS[resul_df_PS.PS_flag=='PS=0']['pred']\n",
    "b = resul_df_PS[resul_df_PS.PS_flag=='PS=1']['pred']\n",
    "c = resul_df_PS[resul_df_PS.PS_flag=='PS=2']['pred']\n",
    "d = resul_df_PS[resul_df_PS.PS_flag=='PS=3']['pred']\n",
    "e = resul_df_PS[resul_df_PS.PS_flag=='PS=4']['pred']\n",
    "print(\"Kruskal, pvalue: \", stats.kruskal(a, b, c, d, e))\n",
    "print(\"Anova, pvalue: \", stats.f_oneway(a, b, c, e, e))"
   ]
  },
  {
   "cell_type": "markdown",
   "metadata": {},
   "source": [
    "#### BoxPlot"
   ]
  },
  {
   "cell_type": "code",
   "execution_count": null,
   "metadata": {},
   "outputs": [],
   "source": [
    "# BoxPlot - Survival Time per PS - Observed Values\n",
    "sns.boxplot(x='PS_flag', y='lab', data=resul_df_PS, order=['PS=0', 'PS=1', 'PS=2', 'PS=3', 'PS=4'], palette='rocket_r')\n",
    "plt.xlabel(\"Performance Status Value\")\n",
    "plt.ylabel(\"Label\")\n",
    "plt.title(\"BoxPlot - Survival label per Performance Status\")"
   ]
  },
  {
   "cell_type": "code",
   "execution_count": null,
   "metadata": {},
   "outputs": [],
   "source": [
    "# BoxPlot - Survival Time per PS - Prediction\n",
    "sns.boxplot(x='PS_flag', y='pred', data=resul_df_PS, order=['PS=0', 'PS=1', 'PS=2', 'PS=3', 'PS=4'], palette='rocket_r')\n",
    "plt.xlabel(\"Performance Status Value\")\n",
    "plt.ylabel(\"Predicted probability\")\n",
    "plt.title(\"BoxPlot - Survival prediction per Performance Status\")"
   ]
  },
  {
   "cell_type": "code",
   "execution_count": null,
   "metadata": {},
   "outputs": [],
   "source": [
    "# BoxPlot - Survival Time per PS - Prediction and Observed Label\n",
    "fig = plt.figure()\n",
    "ax = plt.subplot(111)\n",
    "\n",
    "# Ajustement du jeu de données\n",
    "df_plot = resul_df_PS.melt(id_vars='PS_flag', value_vars=[\"lab\", \"pred\"])\n",
    "df_plot['variable'] = df_plot['variable'].replace('lab', 'Label')\n",
    "df_plot['variable'] = df_plot['variable'].replace('pred', 'Prediction')\n",
    "\n",
    "# Plot\n",
    "sns.boxplot(x='PS_flag', y='value', hue='variable', data=df_plot, \n",
    "            order=['PS=0', 'PS=1', 'PS=2', 'PS=3', 'PS=4'], palette=['peachpuff', 'lightcoral'])#'rocket_r')\n",
    "plt.xlabel(\"Performance Status Value\")\n",
    "plt.ylabel(\"Probability\")\n",
    "plt.title(\"BoxPlot - Survival probability per Performance Status\")\n",
    "\n",
    "# Put a legend below current axis\n",
    "ax.legend(loc='upper center', bbox_to_anchor=(0.5, -0.225),\n",
    "          fancybox=True, shadow=True, ncol=5)\n",
    "ax.xaxis.set_label_coords(0.5, -0.19)\n",
    "# Plot text\n",
    "plt.text(-0.175, -0.205, '2549', fontsize = 10, fontweight='bold', size=8, color='black', bbox=dict(facecolor='moccasin'))\n",
    "plt.text(-0.175+1, -0.205, '5081', fontsize = 10, fontweight='bold', size=8, color='black', bbox=dict(facecolor='moccasin'))\n",
    "plt.text(-0.175+2, -0.205, '1238', fontsize = 10, fontweight='bold', size=8, color='black', bbox=dict(facecolor='moccasin'))\n",
    "plt.text(-0.175+3.05, -0.205, '308', fontsize = 10, fontweight='bold', size=8, color='black', bbox=dict(facecolor='moccasin'))\n",
    "plt.text(-0.175+4.1, -0.205, '85', fontsize = 10, fontweight='bold', size=8, color='black', bbox=dict(facecolor='moccasin'))"
   ]
  },
  {
   "cell_type": "markdown",
   "metadata": {},
   "source": [
    "#### Création du jeu de données"
   ]
  },
  {
   "cell_type": "code",
   "execution_count": 1,
   "metadata": {},
   "outputs": [],
   "source": [
    "import pandas as pd\n",
    "import matplotlib.pyplot as plt\n",
    "import numpy as np\n",
    "from datetime import datetime\n",
    "\n",
    "def strDate_to_days(row, date_format = \"%Y-%m-%d\"):\n",
    "    '''\n",
    "        When there's no FLAG_DECES column in the df\n",
    "    '''\n",
    "    a = datetime.strptime(row['Date deces'], date_format)\n",
    "    b = datetime.strptime(row['Date cr'], date_format)\n",
    "    val = (a-b).days\n",
    "    return val\n",
    "\n",
    "def changeFormat(df: pd.DataFrame, flag_GR: bool):\n",
    "    if(flag_GR):\n",
    "        df = df[0].str.split(',', expand=True)\n",
    "        df = df.iloc[1:,[0,2,3]]\n",
    "        df.columns = [\"Noigr\", \"Date deces\", \"Date cr\"]\n",
    "\n",
    "    df['Date cr'] = df['Date cr'].apply(lambda x: str(x) )\n",
    "    df['Date cr'] = df['Date cr'].apply(lambda x: '-'.join([x[:4], x[4:6], x[6:]]))\n",
    "    df['Date deces'] = df['Date deces'].apply(lambda x: str(x) )\n",
    "    df['Date deces'] = df['Date deces'].apply(lambda x: '-'.join([x[:4], x[4:6], x[6:]]))\n",
    "    df['survival_time'] = df.apply(strDate_to_days, axis=1)\n",
    "\n",
    "    return df"
   ]
  },
  {
   "cell_type": "code",
   "execution_count": 9,
   "metadata": {},
   "outputs": [],
   "source": [
    "# Read 10 dataframe\n",
    "result = pd.read_csv(\"doc_toTest\\\\test_rs0.csv\")\n",
    "\n",
    "for i in range(1, 10):\n",
    "    # Read the data\n",
    "    file_name = \"doc_toTest\\\\test_rs\"+str(i)+\".csv\"\n",
    "    df_read = pd.read_csv(file_name)\n",
    "    # Concatenate to have all rows\n",
    "    frames = [result, df_read]\n",
    "    result = pd.concat(frames)\n",
    "\n",
    "# Remove duplicates\n",
    "result = result.drop_duplicates()"
   ]
  },
  {
   "cell_type": "code",
   "execution_count": 10,
   "metadata": {},
   "outputs": [
    {
     "name": "stderr",
     "output_type": "stream",
     "text": [
      "c:\\Users\\DIPIAZZA\\Anaconda3\\envs\\clb_env2\\lib\\site-packages\\ipykernel_launcher.py:35: SettingWithCopyWarning: \n",
      "A value is trying to be set on a copy of a slice from a DataFrame.\n",
      "Try using .loc[row_indexer,col_indexer] = value instead\n",
      "\n",
      "See the caveats in the documentation: https://pandas.pydata.org/pandas-docs/stable/user_guide/indexing.html#returning-a-view-versus-a-copy\n",
      "c:\\Users\\DIPIAZZA\\Anaconda3\\envs\\clb_env2\\lib\\site-packages\\ipykernel_launcher.py:38: SettingWithCopyWarning: \n",
      "A value is trying to be set on a copy of a slice from a DataFrame.\n",
      "Try using .loc[row_indexer,col_indexer] = value instead\n",
      "\n",
      "See the caveats in the documentation: https://pandas.pydata.org/pandas-docs/stable/user_guide/indexing.html#returning-a-view-versus-a-copy\n"
     ]
    },
    {
     "data": {
      "text/html": [
       "<div>\n",
       "<style scoped>\n",
       "    .dataframe tbody tr th:only-of-type {\n",
       "        vertical-align: middle;\n",
       "    }\n",
       "\n",
       "    .dataframe tbody tr th {\n",
       "        vertical-align: top;\n",
       "    }\n",
       "\n",
       "    .dataframe thead th {\n",
       "        text-align: right;\n",
       "    }\n",
       "</style>\n",
       "<table border=\"1\" class=\"dataframe\">\n",
       "  <thead>\n",
       "    <tr style=\"text-align: right;\">\n",
       "      <th></th>\n",
       "      <th>Noigr</th>\n",
       "      <th>Date cr</th>\n",
       "      <th>Date deces</th>\n",
       "      <th>Texte</th>\n",
       "      <th>PS_flag</th>\n",
       "      <th>indice</th>\n",
       "    </tr>\n",
       "  </thead>\n",
       "  <tbody>\n",
       "    <tr>\n",
       "      <th>0</th>\n",
       "      <td>6035881</td>\n",
       "      <td>20041004</td>\n",
       "      <td>20120922</td>\n",
       "      <td>Karnofsky = 100 %, PS = 0. Evolutivité de la m...</td>\n",
       "      <td>PS=0</td>\n",
       "      <td>0</td>\n",
       "    </tr>\n",
       "    <tr>\n",
       "      <th>1</th>\n",
       "      <td>6035881</td>\n",
       "      <td>20051026</td>\n",
       "      <td>20120922</td>\n",
       "      <td>Karnofsky = 100 %, PS = 0. Se plaint depuis la...</td>\n",
       "      <td>PS=0</td>\n",
       "      <td>1</td>\n",
       "    </tr>\n",
       "    <tr>\n",
       "      <th>2</th>\n",
       "      <td>6035881</td>\n",
       "      <td>20051121</td>\n",
       "      <td>20120922</td>\n",
       "      <td>Karnofsky = 100 %, PS = 0. Evolutivité de la m...</td>\n",
       "      <td>PS=0</td>\n",
       "      <td>2</td>\n",
       "    </tr>\n",
       "  </tbody>\n",
       "</table>\n",
       "</div>"
      ],
      "text/plain": [
       "     Noigr   Date cr  Date deces  \\\n",
       "0  6035881  20041004    20120922   \n",
       "1  6035881  20051026    20120922   \n",
       "2  6035881  20051121    20120922   \n",
       "\n",
       "                                               Texte PS_flag  indice  \n",
       "0  Karnofsky = 100 %, PS = 0. Evolutivité de la m...    PS=0       0  \n",
       "1  Karnofsky = 100 %, PS = 0. Se plaint depuis la...    PS=0       1  \n",
       "2  Karnofsky = 100 %, PS = 0. Evolutivité de la m...    PS=0       2  "
      ]
     },
     "execution_count": 10,
     "metadata": {},
     "output_type": "execute_result"
    }
   ],
   "source": [
    "# Filter on text removing Karnofsky and PS information\n",
    "result['PS_KAR_flag'] = result['Texte'].apply(lambda x: (\"PS =\" in x) | (\"Karnofsky =\" in x) )\n",
    "result = result[result.PS_KAR_flag==True]\n",
    "\n",
    "result = result.reset_index(drop=True)\n",
    "\n",
    "# Add PS_FLAG_0... to show which PS it is\n",
    "result['PS_flag_4'] = result['Texte'].apply(lambda x: \"PS = 4\" in x)\n",
    "result['PS_flag_3'] = result['Texte'].apply(lambda x: \"PS = 3\" in x)\n",
    "result['PS_flag_2'] = result['Texte'].apply(lambda x: \"PS = 2\" in x)\n",
    "result['PS_flag_1'] = result['Texte'].apply(lambda x: \"PS = 1\" in x)\n",
    "result['PS_flag_0'] = result['Texte'].apply(lambda x: \"PS = 0\" in x)\n",
    "\n",
    "# Add PS_flag to show which PS it is\n",
    "# create a list of our conditions\n",
    "conditions = [\n",
    "    (result['PS_flag_0'] == True),\n",
    "    (result['PS_flag_1'] == True),\n",
    "    (result['PS_flag_2'] == True),\n",
    "    (result['PS_flag_3'] == True),\n",
    "    (result['PS_flag_4'] == True),\n",
    "    ]\n",
    "\n",
    "# create a list of the values we want to assign for each condition\n",
    "values = ['PS=0', 'PS=1', 'PS=2', 'PS=3', 'PS=4']\n",
    "\n",
    "result['PS_flag'] = np.select(conditions, values)\n",
    "resul_df_PS = result[result.PS_flag != '0']\n",
    "\n",
    "# Remove Karnosfky and PS of the text if needed\n",
    "'''resul_df_PS['Texte'] = resul_df_PS['Texte'].str.replace('Karnofsky.*?PS = \\d.', '')\n",
    "resul_df_PS['Texte'] = resul_df_PS['Texte'].str.replace('PS = \\d', '')'''\n",
    "\n",
    "# Add index\n",
    "resul_df_PS['indice'] = list(range(len(resul_df_PS)))\n",
    "\n",
    "# Number of occurences per type\n",
    "resul_df_PS['PS_count'] = resul_df_PS.groupby([\"PS_flag\"])[\"PS_flag\"].transform(\"count\")\n",
    "\n",
    "resul_df_PS = resul_df_PS[['Noigr', 'Date cr', 'Date deces', 'Texte', 'PS_flag', 'indice']]\n",
    "\n",
    "resul_df_PS.sort_values(\"indice\").head(3)"
   ]
  },
  {
   "cell_type": "code",
   "execution_count": 11,
   "metadata": {},
   "outputs": [],
   "source": [
    "resul_df_PS.to_csv(\"test_T2_withPS.csv\", index=False)"
   ]
  },
  {
   "cell_type": "code",
   "execution_count": null,
   "metadata": {},
   "outputs": [],
   "source": []
  }
 ],
 "metadata": {
  "interpreter": {
   "hash": "3017c399632bdad99ff7d78fdd8a75c4df8c74c804f4832978fc1a75e7107017"
  },
  "kernelspec": {
   "display_name": "Python 3.7.11 ('clb_env2')",
   "language": "python",
   "name": "python3"
  },
  "language_info": {
   "codemirror_mode": {
    "name": "ipython",
    "version": 3
   },
   "file_extension": ".py",
   "mimetype": "text/x-python",
   "name": "python",
   "nbconvert_exporter": "python",
   "pygments_lexer": "ipython3",
   "version": "3.7.11"
  },
  "orig_nbformat": 4
 },
 "nbformat": 4,
 "nbformat_minor": 2
}
