{
 "cells": [],
 "metadata": {
  "interpreter": {
   "hash": "867db19fe7a3d126053273bd6259188dddd07a2dbde6b9b3dfcc5f0ceac37c2c"
  },
  "kernelspec": {
   "display_name": "Python 3.7.11 ('clb_env1')",
   "language": "python",
   "name": "python3"
  },
  "language_info": {
   "codemirror_mode": {
    "name": "ipython",
    "version": 3
   },
   "file_extension": ".py",
   "mimetype": "text/x-python",
   "name": "python",
   "nbconvert_exporter": "python",
   "pygments_lexer": "ipython3",
   "version": "3.7.11"
  },
  "orig_nbformat": 4
 },
 "nbformat": 4,
 "nbformat_minor": 2
}
