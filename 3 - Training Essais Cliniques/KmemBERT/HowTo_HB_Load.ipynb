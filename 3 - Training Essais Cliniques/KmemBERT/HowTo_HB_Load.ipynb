{
 "cells": [
  {
   "cell_type": "code",
   "execution_count": 3,
   "metadata": {},
   "outputs": [
    {
     "name": "stdout",
     "output_type": "stream",
     "text": [
      "\u001b[1m\n",
      "Using mode density (Health BERT checkpoint kmembert-base)\u001b[0m\n",
      "\u001b[1m\n",
      "Loading camembert and its tokenizer...\u001b[0m\n",
      "if config.resume from health_bert.py\n",
      "\u001b[1mResuming with model at kmembert-base...\u001b[0m\n",
      "path_checkpoint dans health_bert.py: results\\kmembert-base\\checkpoint.pth\n",
      "\u001b[92mSuccessfully loaded\n",
      "\u001b[0m\n"
     ]
    }
   ],
   "source": [
    "from kmembert.utils import Config\n",
    "from kmembert.models import HealthBERT\n",
    "\n",
    "import torch\n",
    "\n",
    "resume = \"kmembert-base\"\n",
    "config = Config()\n",
    "config.resume = resume\n",
    "device = torch.device('cuda' if torch.cuda.is_available() else 'cpu')\n",
    "\n",
    "model = HealthBERT(device, config)"
   ]
  },
  {
   "cell_type": "code",
   "execution_count": null,
   "metadata": {},
   "outputs": [],
   "source": []
  }
 ],
 "metadata": {
  "kernelspec": {
   "display_name": "Python 3.10.5 64-bit (windows store)",
   "language": "python",
   "name": "python3"
  },
  "language_info": {
   "codemirror_mode": {
    "name": "ipython",
    "version": 3
   },
   "file_extension": ".py",
   "mimetype": "text/x-python",
   "name": "python",
   "nbconvert_exporter": "python",
   "pygments_lexer": "ipython3",
   "version": "3.10.5"
  },
  "orig_nbformat": 4,
  "vscode": {
   "interpreter": {
    "hash": "89b5d1987bcce9da67b14a59fdb8d8e1c7939dcd3b039ca2c10af03f935452ee"
   }
  }
 },
 "nbformat": 4,
 "nbformat_minor": 2
}
