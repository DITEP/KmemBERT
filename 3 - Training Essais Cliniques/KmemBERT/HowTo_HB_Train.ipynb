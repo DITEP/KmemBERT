{
 "cells": [
  {
   "cell_type": "code",
   "execution_count": null,
   "metadata": {},
   "outputs": [],
   "source": [
    "from kmembert.utils import Config\n",
    "from kmembert.models import HealthBERT\n",
    "\n",
    "import torch\n",
    "\n",
    "config = Config()\n",
    "config.mode = \"density\"\n",
    "\n",
    "device = torch.device('cuda' if torch.cuda.is_available() else 'cpu')\n",
    "\n",
    "model = HealthBERT(device, config)"
   ]
  },
  {
   "cell_type": "code",
   "execution_count": null,
   "metadata": {},
   "outputs": [],
   "source": [
    "import argparse\n",
    "\n",
    "parser = argparse.ArgumentParser()\n",
    "parser.add_argument(\"-d\", \"--data_folder\", type=str, default=\"ehr\", \n",
    "    help=\"data folder name\")\n",
    "parser.add_argument(\"-m\", \"--mode\", type=str, default=\"regression\", choices=['regression', 'density'],\n",
    "    help=\"name of the task\")\n",
    "parser.add_argument(\"-b\", \"--batch_size\", type=int, default=8, \n",
    "    help=\"dataset batch size\")\n",
    "parser.add_argument(\"-e\", \"--epochs\", type=int, default=2, \n",
    "    help=\"number of epochs\")\n",
    "parser.add_argument(\"-drop\", \"--drop_rate\", type=float, default=None, \n",
    "    help=\"dropout ratio. By default, None uses p=0.1\")\n",
    "parser.add_argument(\"-nr\", \"--nrows\", type=int, default=None, \n",
    "    help=\"maximum number of samples for training and validation\")\n",
    "parser.add_argument(\"-k\", \"--print_every_k_batch\", type=int, default=1, \n",
    "    help=\"prints training loss every k batch\")\n",
    "parser.add_argument(\"-f\", \"--freeze\", type=bool, default=False, const=True, nargs=\"?\",\n",
    "    help=\"whether or not to freeze the Bert part\")\n",
    "parser.add_argument(\"-dt\", \"--days_threshold\", type=int, default=365, \n",
    "    help=\"days threshold to convert into classification task\")\n",
    "parser.add_argument(\"-lr\", \"--learning_rate\", type=float, default=1e-4, \n",
    "    help=\"model learning rate\")\n",
    "parser.add_argument(\"-r_lr\", \"--ratio_lr_embeddings\", type=float, default=1, \n",
    "    help=\"the ratio applied to lr for embeddings layer\")\n",
    "parser.add_argument(\"-wg\", \"--weight_decay\", type=float, default=0, \n",
    "    help=\"the weight decay for L2 regularization\")\n",
    "parser.add_argument(\"-v\", \"--voc_file\", type=str, default=None, \n",
    "    help=\"voc file containing camembert added vocabulary\")\n",
    "parser.add_argument(\"-r\", \"--resume\", type=str, default=None, \n",
    "    help=\"result folder in which the saved checkpoint will be reused\")\n",
    "parser.add_argument(\"-p\", \"--patience\", type=int, default=4, \n",
    "    help=\"number of decreasing accuracy epochs to stop the training\")\n",
    "\n",
    "args = parser.parse_args(\"\")"
   ]
  },
  {
   "cell_type": "code",
   "execution_count": null,
   "metadata": {},
   "outputs": [],
   "source": [
    "from kmembert.training import train_and_validate \n",
    "from kmembert.utils import get_label_threshold, create_session\n",
    "from kmembert.dataset import EHRDataset\n",
    "import torch\n",
    "from torch.utils.data import DataLoader\n",
    "\n",
    "path_dataset, _, device, config = create_session(args)\n",
    "\n",
    "assert not (args.freeze and args.voc_file), \"Don't use freeze argument while adding vocabulary. It would not be learned\"\n",
    "\n",
    "config.label_threshold = get_label_threshold(config, path_dataset)\n",
    "\n",
    "train_dataset, validation_dataset = EHRDataset.get_train_validation(path_dataset, config)\n",
    "\n",
    "train_loader = DataLoader(train_dataset, batch_size=config.batch_size, shuffle=True)\n",
    "validation_loader = DataLoader(validation_dataset, batch_size=1, shuffle=True)\n",
    "\n",
    "train_and_validate(model, train_loader, validation_loader, device, config, config.path_result)"
   ]
  },
  {
   "cell_type": "code",
   "execution_count": null,
   "metadata": {},
   "outputs": [],
   "source": []
  }
 ],
 "metadata": {
  "kernelspec": {
   "display_name": "Python 3.7.11 ('clb_env2')",
   "language": "python",
   "name": "python3"
  },
  "language_info": {
   "codemirror_mode": {
    "name": "ipython",
    "version": 3
   },
   "file_extension": ".py",
   "mimetype": "text/x-python",
   "name": "python",
   "nbconvert_exporter": "python",
   "pygments_lexer": "ipython3",
   "version": "3.7.11"
  },
  "orig_nbformat": 4,
  "vscode": {
   "interpreter": {
    "hash": "3017c399632bdad99ff7d78fdd8a75c4df8c74c804f4832978fc1a75e7107017"
   }
  }
 },
 "nbformat": 4,
 "nbformat_minor": 2
}
