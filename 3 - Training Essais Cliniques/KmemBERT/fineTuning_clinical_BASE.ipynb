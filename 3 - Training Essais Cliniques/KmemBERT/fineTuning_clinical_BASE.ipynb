{
 "cells": [
  {
   "cell_type": "code",
   "execution_count": 6,
   "metadata": {},
   "outputs": [
    {
     "data": {
      "text/html": [
       "<div>\n",
       "<style scoped>\n",
       "    .dataframe tbody tr th:only-of-type {\n",
       "        vertical-align: middle;\n",
       "    }\n",
       "\n",
       "    .dataframe tbody tr th {\n",
       "        vertical-align: top;\n",
       "    }\n",
       "\n",
       "    .dataframe thead th {\n",
       "        text-align: right;\n",
       "    }\n",
       "</style>\n",
       "<table border=\"1\" class=\"dataframe\">\n",
       "  <thead>\n",
       "    <tr style=\"text-align: right;\">\n",
       "      <th></th>\n",
       "      <th>MyIndice</th>\n",
       "      <th>Noigr</th>\n",
       "      <th>Date cr</th>\n",
       "      <th>Date deces</th>\n",
       "      <th>Date entree etude</th>\n",
       "      <th>FLAG_mostRecent</th>\n",
       "      <th>State</th>\n",
       "      <th>Texte</th>\n",
       "    </tr>\n",
       "  </thead>\n",
       "  <tbody>\n",
       "    <tr>\n",
       "      <th>3</th>\n",
       "      <td>3</td>\n",
       "      <td>94410319</td>\n",
       "      <td>1999-11-16</td>\n",
       "      <td>1999-12-03</td>\n",
       "      <td>19991116</td>\n",
       "      <td>1</td>\n",
       "      <td>0</td>\n",
       "      <td>Compte-rendu de consultation ContenuPatient vu...</td>\n",
       "    </tr>\n",
       "    <tr>\n",
       "      <th>9</th>\n",
       "      <td>9</td>\n",
       "      <td>89422907</td>\n",
       "      <td>2000-04-27</td>\n",
       "      <td>2001-05-06</td>\n",
       "      <td>20000523</td>\n",
       "      <td>1</td>\n",
       "      <td>1</td>\n",
       "      <td>Compte-rendu de consultation ContenuPatient vu...</td>\n",
       "    </tr>\n",
       "    <tr>\n",
       "      <th>14</th>\n",
       "      <td>14</td>\n",
       "      <td>21401986</td>\n",
       "      <td>2000-08-02</td>\n",
       "      <td>2000-11-16</td>\n",
       "      <td>20000808</td>\n",
       "      <td>1</td>\n",
       "      <td>1</td>\n",
       "      <td>Compte-rendu de consultation ContenuPatient vu...</td>\n",
       "    </tr>\n",
       "    <tr>\n",
       "      <th>17</th>\n",
       "      <td>17</td>\n",
       "      <td>43349038</td>\n",
       "      <td>2000-10-03</td>\n",
       "      <td>2003-06-02</td>\n",
       "      <td>20001103</td>\n",
       "      <td>1</td>\n",
       "      <td>1</td>\n",
       "      <td>Compte-rendu de consultation ContenuPatient vu...</td>\n",
       "    </tr>\n",
       "    <tr>\n",
       "      <th>18</th>\n",
       "      <td>18</td>\n",
       "      <td>37434318</td>\n",
       "      <td>2000-10-04</td>\n",
       "      <td>2001-01-16</td>\n",
       "      <td>20001017</td>\n",
       "      <td>1</td>\n",
       "      <td>1</td>\n",
       "      <td>Compte-rendu de consultation ContenuPatient vu...</td>\n",
       "    </tr>\n",
       "  </tbody>\n",
       "</table>\n",
       "</div>"
      ],
      "text/plain": [
       "    MyIndice     Noigr     Date cr  Date deces  Date entree etude  \\\n",
       "3          3  94410319  1999-11-16  1999-12-03           19991116   \n",
       "9          9  89422907  2000-04-27  2001-05-06           20000523   \n",
       "14        14  21401986  2000-08-02  2000-11-16           20000808   \n",
       "17        17  43349038  2000-10-03  2003-06-02           20001103   \n",
       "18        18  37434318  2000-10-04  2001-01-16           20001017   \n",
       "\n",
       "    FLAG_mostRecent  State                                              Texte  \n",
       "3                 1      0  Compte-rendu de consultation ContenuPatient vu...  \n",
       "9                 1      1  Compte-rendu de consultation ContenuPatient vu...  \n",
       "14                1      1  Compte-rendu de consultation ContenuPatient vu...  \n",
       "17                1      1  Compte-rendu de consultation ContenuPatient vu...  \n",
       "18                1      1  Compte-rendu de consultation ContenuPatient vu...  "
      ]
     },
     "execution_count": 6,
     "metadata": {},
     "output_type": "execute_result"
    }
   ],
   "source": [
    "import pandas as pd\n",
    "\n",
    "df = pd.read_csv(\"data\\\\ehr\\\\train.csv\")\n",
    "\n",
    "df = df[df.FLAG_mostRecent==1]\n",
    "df['Date deces'] = df['Date deces'].apply(lambda x: str(x)[:4]+\"-\"+str(x)[4:6]+\"-\"+str(x)[6:])\n",
    "df['Date cr'] = df['Date cr'].apply(lambda x: str(x)[:4]+\"-\"+str(x)[4:6]+\"-\"+str(x)[6:])\n",
    "\n",
    "df.head(5)"
   ]
  },
  {
   "cell_type": "code",
   "execution_count": 8,
   "metadata": {},
   "outputs": [
    {
     "data": {
      "text/plain": [
       "([<matplotlib.axis.XTick at 0x268a86250c8>,\n",
       "  <matplotlib.axis.XTick at 0x268a861be48>],\n",
       " [Text(0, 0, 'Dead/Stop'), Text(1, 0, 'Alive')])"
      ]
     },
     "execution_count": 8,
     "metadata": {},
     "output_type": "execute_result"
    },
    {
     "data": {
      "image/png": "[encoded data removed]",
      "text/plain": [
       "<Figure size 432x288 with 1 Axes>"
      ]
     },
     "metadata": {
      "needs_background": "light"
     },
     "output_type": "display_data"
    }
   ],
   "source": [
    "# Plot number of CR dead 60 days following CR\n",
    "import matplotlib.pyplot as plt\n",
    "import seaborn as sns\n",
    "\n",
    "# Compute % of alive and dead\n",
    "per_dead, per_alive = round((df['State'].value_counts(normalize=True)*100)[0], 1), round((df['State'].value_counts(normalize=True)*100)[1], 1)\n",
    "\n",
    "sns.countplot(x=\"State\", data=df, palette=['lightcoral',\"lightgreen\"], edgecolor=\"black\")\n",
    "\n",
    "plt.text(0, 60, str(per_dead)+\"%\", ha=\"center\", size = 12, bbox=dict(boxstyle=\"round\",\n",
    "                                                                                facecolor=\"white\",\n",
    "                                                                                edgecolor=\"black\"\n",
    "                                                                                ))\n",
    "plt.text(1, 60, str(per_alive)+\"%\", ha=\"center\", size = 12, bbox=dict(boxstyle=\"round\",\n",
    "                                                                                facecolor=\"white\",\n",
    "                                                                                edgecolor=\"black\"\n",
    "                                                                                ))\n",
    "\n",
    "plt.title(\"Number of cases where the patient died 60 days after the start of the trial\\n(I, II, III)\", fontsize=12)\n",
    "plt.ylabel('Count')        \n",
    "plt.xticks([0,1], ['Dead/Stop', 'Alive'])"
   ]
  }
 ],
 "metadata": {
  "kernelspec": {
   "display_name": "Python 3.7.11 ('clb_env2')",
   "language": "python",
   "name": "python3"
  },
  "language_info": {
   "codemirror_mode": {
    "name": "ipython",
    "version": 3
   },
   "file_extension": ".py",
   "mimetype": "text/x-python",
   "name": "python",
   "nbconvert_exporter": "python",
   "pygments_lexer": "ipython3",
   "version": "3.7.11"
  },
  "orig_nbformat": 4,
  "vscode": {
   "interpreter": {
    "hash": "3017c399632bdad99ff7d78fdd8a75c4df8c74c804f4832978fc1a75e7107017"
   }
  }
 },
 "nbformat": 4,
 "nbformat_minor": 2
}
