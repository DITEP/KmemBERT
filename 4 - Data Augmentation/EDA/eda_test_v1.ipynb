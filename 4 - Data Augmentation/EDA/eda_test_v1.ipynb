{
 "cells": [
  {
   "cell_type": "markdown",
   "metadata": {},
   "source": [
    "### Essai en cours"
   ]
  },
  {
   "cell_type": "code",
   "execution_count": 1,
   "metadata": {},
   "outputs": [
    {
     "data": {
      "text/plain": [
       "\"Le client est excessivement malade, il présente des signes de fatigue. Pour cela, il devra gaspiller du adénocarcinome avec du taxol. Concernant sa radiothérapie, c'est très ennuyant et de nombreux autres examens devront être effectués au plus rapidement !\""
      ]
     },
     "execution_count": 1,
     "metadata": {},
     "output_type": "execute_result"
    }
   ],
   "source": [
    "from utils_eda import replace_synonyms_v2\n",
    "\n",
    "# Arguments\n",
    "txt = \"Le patient est extrêmement malade, il présente des signes de fatigue. Pour cela, il devra consommer du adénocarcinome avec du taxol. Concernant sa radiothérapie, c'est très inquiétant et de nombreux autres examens devront être effectués au plus vite !\"\n",
    "pourcentage = 1\n",
    "\n",
    "new_txt = replace_synonyms_v2(txt, pourcentage)\n",
    "\n",
    "new_txt"
   ]
  },
  {
   "cell_type": "markdown",
   "metadata": {},
   "source": [
    "### Ajout du contextual embeddings"
   ]
  },
  {
   "cell_type": "code",
   "execution_count": 54,
   "metadata": {},
   "outputs": [],
   "source": [
    " import nlpaug.augmenter.word as naw\n",
    "\n",
    "aug = naw.ContextualWordEmbsAug(\n",
    "    model_path='bert-base-uncased', action=\"substitute\", top_k=2)"
   ]
  },
  {
   "cell_type": "code",
   "execution_count": 55,
   "metadata": {},
   "outputs": [
    {
     "data": {
      "text/plain": [
       "['our patient seems fine. we should pay attention for his symptoms. his x - ray is negative. we may have to monitor him closely.']"
      ]
     },
     "execution_count": 55,
     "metadata": {},
     "output_type": "execute_result"
    }
   ],
   "source": [
    "txt = \"The patient is ill. We must pay attention to his treatment. His X-ray is worrying. We will have to follow him closely.\"\n",
    "augmented_text = aug.augment(txt)\n",
    "augmented_text"
   ]
  }
 ],
 "metadata": {
  "kernelspec": {
   "display_name": "Python 3.7.11 ('clb_env2')",
   "language": "python",
   "name": "python3"
  },
  "language_info": {
   "codemirror_mode": {
    "name": "ipython",
    "version": 3
   },
   "file_extension": ".py",
   "mimetype": "text/x-python",
   "name": "python",
   "nbconvert_exporter": "python",
   "pygments_lexer": "ipython3",
   "version": "3.7.11"
  },
  "orig_nbformat": 4,
  "vscode": {
   "interpreter": {
    "hash": "3017c399632bdad99ff7d78fdd8a75c4df8c74c804f4832978fc1a75e7107017"
   }
  }
 },
 "nbformat": 4,
 "nbformat_minor": 2
}
