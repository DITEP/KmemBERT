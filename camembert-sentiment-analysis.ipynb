{
 "cells": [
  {
   "cell_type": "code",
   "execution_count": 1,
   "metadata": {},
   "outputs": [
    {
     "name": "stderr",
     "output_type": "stream",
     "text": [
      "/home/rockl33/anaconda3/lib/python3.8/site-packages/torch/cuda/__init__.py:52: UserWarning: CUDA initialization: Found no NVIDIA driver on your system. Please check that you have an NVIDIA GPU and installed a driver from http://www.nvidia.com/Download/index.aspx (Triggered internally at  /pytorch/c10/cuda/CUDAFunctions.cpp:100.)\n",
      "  return torch._C._cuda_getDeviceCount() > 0\n"
     ]
    }
   ],
   "source": [
    "import pandas as pd\n",
    "import numpy as np\n",
    "import matplotlib.pyplot as plt\n",
    "\n",
    "import torch \n",
    "from transformers import pipeline, CamembertTokenizer, CamembertModel, CamembertForSequenceClassification, AdamW"
   ]
  },
  {
   "cell_type": "code",
   "execution_count": 2,
   "metadata": {},
   "outputs": [
    {
     "data": {
      "text/html": [
       "<div>\n",
       "<style scoped>\n",
       "    .dataframe tbody tr th:only-of-type {\n",
       "        vertical-align: middle;\n",
       "    }\n",
       "\n",
       "    .dataframe tbody tr th {\n",
       "        vertical-align: top;\n",
       "    }\n",
       "\n",
       "    .dataframe thead th {\n",
       "        text-align: right;\n",
       "    }\n",
       "</style>\n",
       "<table border=\"1\" class=\"dataframe\">\n",
       "  <thead>\n",
       "    <tr style=\"text-align: right;\">\n",
       "      <th></th>\n",
       "      <th>label</th>\n",
       "      <th>text</th>\n",
       "    </tr>\n",
       "  </thead>\n",
       "  <tbody>\n",
       "    <tr>\n",
       "      <th>956022</th>\n",
       "      <td>1</td>\n",
       "      <td>Dieu a mis comme ici et par la foi il y aura d...</td>\n",
       "    </tr>\n",
       "    <tr>\n",
       "      <th>940417</th>\n",
       "      <td>1</td>\n",
       "      <td>Hey whatsup certifié toxicomane restaurant ville?</td>\n",
       "    </tr>\n",
       "    <tr>\n",
       "      <th>584286</th>\n",
       "      <td>0</td>\n",
       "      <td>Occupé, occupé ... manquez mon co-travail</td>\n",
       "    </tr>\n",
       "    <tr>\n",
       "      <th>263206</th>\n",
       "      <td>0</td>\n",
       "      <td>Nouvelle publication de blog: désolé, aucune l...</td>\n",
       "    </tr>\n",
       "    <tr>\n",
       "      <th>595249</th>\n",
       "      <td>0</td>\n",
       "      <td>Hahah that's awesome !!! Enfin quelqu'un aime ...</td>\n",
       "    </tr>\n",
       "  </tbody>\n",
       "</table>\n",
       "</div>"
      ],
      "text/plain": [
       "        label                                               text\n",
       "956022      1  Dieu a mis comme ici et par la foi il y aura d...\n",
       "940417      1  Hey whatsup certifié toxicomane restaurant ville?\n",
       "584286      0          Occupé, occupé ... manquez mon co-travail\n",
       "263206      0  Nouvelle publication de blog: désolé, aucune l...\n",
       "595249      0  Hahah that's awesome !!! Enfin quelqu'un aime ..."
      ]
     },
     "execution_count": 2,
     "metadata": {},
     "output_type": "execute_result"
    }
   ],
   "source": [
    "df = pd.read_csv(\"french_tweets.csv\")\n",
    "df = df.sample(frac=1)\n",
    "df.head()"
   ]
  },
  {
   "cell_type": "code",
   "execution_count": 3,
   "metadata": {},
   "outputs": [
    {
     "name": "stderr",
     "output_type": "stream",
     "text": [
      "Some weights of the model checkpoint at camembert-base were not used when initializing CamembertForSequenceClassification: ['lm_head.bias', 'lm_head.dense.weight', 'lm_head.dense.bias', 'lm_head.layer_norm.weight', 'lm_head.layer_norm.bias', 'lm_head.decoder.weight', 'roberta.pooler.dense.weight', 'roberta.pooler.dense.bias']\n",
      "- This IS expected if you are initializing CamembertForSequenceClassification from the checkpoint of a model trained on another task or with another architecture (e.g. initializing a BertForSequenceClassification model from a BertForPreTraining model).\n",
      "- This IS NOT expected if you are initializing CamembertForSequenceClassification from the checkpoint of a model that you expect to be exactly identical (initializing a BertForSequenceClassification model from a BertForSequenceClassification model).\n",
      "Some weights of CamembertForSequenceClassification were not initialized from the model checkpoint at camembert-base and are newly initialized: ['classifier.dense.weight', 'classifier.dense.bias', 'classifier.out_proj.weight', 'classifier.out_proj.bias']\n",
      "You should probably TRAIN this model on a down-stream task to be able to use it for predictions and inference.\n"
     ]
    }
   ],
   "source": [
    "model_name = \"camembert-base\"\n",
    "model = CamembertForSequenceClassification.from_pretrained(model_name)\n",
    "tokenizer = CamembertTokenizer.from_pretrained(model_name)"
   ]
  },
  {
   "cell_type": "code",
   "execution_count": 6,
   "metadata": {},
   "outputs": [],
   "source": [
    "pipe = pipeline(\"sentiment-analysis\", model=model, tokenizer=tokenizer)"
   ]
  },
  {
   "cell_type": "code",
   "execution_count": 7,
   "metadata": {},
   "outputs": [
    {
     "data": {
      "text/plain": [
       "[{'label': 'LABEL_1', 'score': 0.5151234269142151},\n",
       " {'label': 'LABEL_1', 'score': 0.5166407823562622},\n",
       " {'label': 'LABEL_1', 'score': 0.521996021270752},\n",
       " {'label': 'LABEL_1', 'score': 0.5122599005699158},\n",
       " {'label': 'LABEL_1', 'score': 0.5149708390235901},\n",
       " {'label': 'LABEL_1', 'score': 0.5147616267204285},\n",
       " {'label': 'LABEL_1', 'score': 0.5148693323135376},\n",
       " {'label': 'LABEL_1', 'score': 0.5204548835754395},\n",
       " {'label': 'LABEL_1', 'score': 0.5188602805137634},\n",
       " {'label': 'LABEL_1', 'score': 0.5192782282829285}]"
      ]
     },
     "execution_count": 7,
     "metadata": {},
     "output_type": "execute_result"
    }
   ],
   "source": [
    "sample_tweets = df.sample(10)[\"text\"].tolist()\n",
    "pipe(sample_tweets)"
   ]
  },
  {
   "cell_type": "markdown",
   "metadata": {},
   "source": [
    "> The model is obviously not trained yet, since all its prediction scores are 0.5"
   ]
  },
  {
   "cell_type": "markdown",
   "metadata": {},
   "source": [
    "# TRAINING"
   ]
  },
  {
   "cell_type": "code",
   "execution_count": 6,
   "metadata": {},
   "outputs": [],
   "source": [
    "train_size = 0.7\n",
    "batch_size = 16\n",
    "n_iter = 10\n",
    "\n",
    "n,_ = df.shape\n",
    "df_train = df.iloc[:int(train_size*n)]\n",
    "df_test = df.iloc[int(train_size*n):]\n",
    "\n",
    "optimizer = AdamW(model.parameters(), lr=1e-5)"
   ]
  },
  {
   "cell_type": "code",
   "execution_count": 7,
   "metadata": {},
   "outputs": [
    {
     "name": "stdout",
     "output_type": "stream",
     "text": [
      "===> Iteration 0: 0.703162670135498\n",
      "===> Iteration 1: 0.6960020065307617\n",
      "===> Iteration 2: 0.690544068813324\n",
      "===> Iteration 3: 0.6940597295761108\n",
      "===> Iteration 4: 0.6898472905158997\n",
      "===> Iteration 5: 0.6952105164527893\n",
      "===> Iteration 6: 0.6965254545211792\n",
      "===> Iteration 7: 0.6933307647705078\n",
      "===> Iteration 8: 0.684251070022583\n",
      "===> Iteration 9: 0.6983571648597717\n"
     ]
    }
   ],
   "source": [
    "loss_values = []\n",
    "\n",
    "for e in range(n_iter):\n",
    "    df_batch = df_train.sample(batch_size)\n",
    "    text_batch = df_batch[\"text\"].tolist()\n",
    "    encoding = tokenizer(text_batch, return_tensors='pt', padding=True, truncation=True)\n",
    "    input_ids = encoding['input_ids']\n",
    "    attention_mask = encoding['attention_mask']\n",
    "    labels = torch.tensor(df_batch[\"label\"].tolist()).unsqueeze(0)\n",
    "    \n",
    "    outputs = model(input_ids, attention_mask=attention_mask, labels=labels)\n",
    "    loss = outputs.loss\n",
    "    loss.backward()\n",
    "    optimizer.step()\n",
    "    \n",
    "    loss_values.append(loss.item())\n",
    "    print(f\"===> Iteration {e}: {loss.item()}\")"
   ]
  },
  {
   "cell_type": "code",
   "execution_count": 8,
   "metadata": {},
   "outputs": [
    {
     "data": {
      "image/png": "[encoded data removed]",
      "text/plain": [
       "<Figure size 432x288 with 1 Axes>"
      ]
     },
     "metadata": {
      "needs_background": "light"
     },
     "output_type": "display_data"
    }
   ],
   "source": [
    "plt.plot(loss_values)\n",
    "plt.show()"
   ]
  },
  {
   "cell_type": "markdown",
   "metadata": {},
   "source": [
    "# TESTING"
   ]
  },
  {
   "cell_type": "code",
   "execution_count": 14,
   "metadata": {},
   "outputs": [],
   "source": [
    "n_sample_test = 30\n",
    "\n",
    "df_sample_test = df_test.sample(n_sample_test)\n",
    "text_batch = df_sample_test[\"text\"].tolist()\n",
    "encoding = tokenizer(text_batch, return_tensors='pt', padding=True, truncation=True)\n",
    "input_ids = encoding['input_ids']\n",
    "attention_mask = encoding['attention_mask']\n",
    "labels = torch.tensor(df_sample_test[\"label\"].tolist()).unsqueeze(0)\n",
    "\n",
    "outputs = model(input_ids, attention_mask=attention_mask)\n",
    "logits = outputs.logits"
   ]
  },
  {
   "cell_type": "code",
   "execution_count": 15,
   "metadata": {},
   "outputs": [],
   "source": [
    "def print_accuracy(predictions, labels):\n",
    "    accuracy = 1 - np.mean(np.abs(predictions - labels))\n",
    "    print(f\"Accuracy: {accuracy}\")"
   ]
  },
  {
   "cell_type": "code",
   "execution_count": 16,
   "metadata": {},
   "outputs": [
    {
     "name": "stdout",
     "output_type": "stream",
     "text": [
      "Accuracy: 0.5666666666666667\n"
     ]
    }
   ],
   "source": [
    "predictions = np.argmax(logits.detach().numpy(), axis=1)\n",
    "print_accuracy(predictions, labels.detach().numpy())"
   ]
  }
 ],
 "metadata": {
  "kernelspec": {
   "display_name": "Python 3",
   "language": "python",
   "name": "python3"
  },
  "language_info": {
   "codemirror_mode": {
    "name": "ipython",
    "version": 3
   },
   "file_extension": ".py",
   "mimetype": "text/x-python",
   "name": "python",
   "nbconvert_exporter": "python",
   "pygments_lexer": "ipython3",
   "version": "3.8.3"
  }
 },
 "nbformat": 4,
 "nbformat_minor": 4
}
