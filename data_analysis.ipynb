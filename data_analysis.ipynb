{
 "cells": [
  {
   "cell_type": "code",
   "execution_count": 298,
   "metadata": {},
   "outputs": [],
   "source": [
    "import pandas as pd\n",
    "import seaborn as sns\n",
    "import matplotlib.pyplot as plt\n",
    "from transformers import CamembertTokenizer\n",
    "import numpy as np\n",
    "from collections import Counter"
   ]
  },
  {
   "cell_type": "code",
   "execution_count": 53,
   "metadata": {},
   "outputs": [],
   "source": [
    "df_chunk = pd.read_csv('french_tweets.csv', chunksize=5)"
   ]
  },
  {
   "cell_type": "code",
   "execution_count": 60,
   "metadata": {},
   "outputs": [],
   "source": [
    "n_tweets = 10000\n",
    "\n",
    "lengths = []\n",
    "for chunk in df_chunk:\n",
    "    for tweet in chunk.text:\n",
    "        lengths.append(len(tweet.split()))\n",
    "    if len(lengths) >= n_tweets:\n",
    "        break"
   ]
  },
  {
   "cell_type": "code",
   "execution_count": 174,
   "metadata": {},
   "outputs": [
    {
     "name": "stdout",
     "output_type": "stream",
     "text": [
      "10000 tweets\n"
     ]
    },
    {
     "data": {
      "image/png": "[encoded data removed]",
      "text/plain": [
       "<Figure size 432x288 with 1 Axes>"
      ]
     },
     "metadata": {
      "needs_background": "light"
     },
     "output_type": "display_data"
    }
   ],
   "source": [
    "print(len(lengths), \"tweets\")\n",
    "sns.distplot(lengths)\n",
    "plt.title(\"Histogramme du nombre de mots par tweet\")\n",
    "plt.xlabel(\"Nombre de mot\")\n",
    "plt.ylabel(\"Densité\")\n",
    "plt.savefig(f'n_words_histogram_{len(lengths)}.png')\n",
    "plt.show()"
   ]
  },
  {
   "cell_type": "code",
   "execution_count": 63,
   "metadata": {},
   "outputs": [],
   "source": [
    "model_name = \"camembert-base\"\n",
    "tokenizer = CamembertTokenizer.from_pretrained(model_name)"
   ]
  },
  {
   "cell_type": "code",
   "execution_count": 191,
   "metadata": {},
   "outputs": [],
   "source": [
    "tweet = \"Ceci est un exemple avec deux !!!?? fotes d'ortographe ⚽️⚾️ sans espace\""
   ]
  },
  {
   "cell_type": "code",
   "execution_count": 192,
   "metadata": {},
   "outputs": [
    {
     "data": {
      "text/plain": [
       "['▁Ceci',\n",
       " '▁est',\n",
       " '▁un',\n",
       " '▁exemple',\n",
       " '▁avec',\n",
       " '▁deux',\n",
       " '▁!!!',\n",
       " '??',\n",
       " '▁fo',\n",
       " 'tes',\n",
       " '▁d',\n",
       " \"'\",\n",
       " 'ort',\n",
       " 'ographe',\n",
       " '▁',\n",
       " '⚽️⚾️',\n",
       " '▁sans',\n",
       " '▁espace']"
      ]
     },
     "execution_count": 192,
     "metadata": {},
     "output_type": "execute_result"
    }
   ],
   "source": [
    "tokenizer.tokenize(tweet)"
   ]
  },
  {
   "cell_type": "code",
   "execution_count": 197,
   "metadata": {},
   "outputs": [
    {
     "data": {
      "text/plain": [
       "['▁b', 'h', 'cu', 'ize', 'h', 'de', 'uz']"
      ]
     },
     "execution_count": 197,
     "metadata": {},
     "output_type": "execute_result"
    }
   ],
   "source": [
    "tokenizer.tokenize('bhcuizehdeuz')"
   ]
  },
  {
   "cell_type": "code",
   "execution_count": 190,
   "metadata": {},
   "outputs": [
    {
     "data": {
      "text/plain": [
       "\"<s> Ceci est un exemple avec deux!!!?? fotes d'ortographe <unk> sansespace</s>\""
      ]
     },
     "execution_count": 190,
     "metadata": {},
     "output_type": "execute_result"
    }
   ],
   "source": [
    "tokenizer.decode(tokenizer.encode(tweet))"
   ]
  },
  {
   "cell_type": "code",
   "execution_count": 187,
   "metadata": {},
   "outputs": [
    {
     "data": {
      "text/plain": [
       "[5,\n",
       " 2978,\n",
       " 30,\n",
       " 23,\n",
       " 411,\n",
       " 42,\n",
       " 116,\n",
       " 1309,\n",
       " 6161,\n",
       " 9557,\n",
       " 1839,\n",
       " 18,\n",
       " 11,\n",
       " 8607,\n",
       " 18486,\n",
       " 21,\n",
       " 3,\n",
       " 112,\n",
       " 1179,\n",
       " 6]"
      ]
     },
     "execution_count": 187,
     "metadata": {},
     "output_type": "execute_result"
    }
   ],
   "source": [
    "tokenizer.encode(tweet)"
   ]
  },
  {
   "cell_type": "code",
   "execution_count": 126,
   "metadata": {},
   "outputs": [
    {
     "data": {
      "text/plain": [
       "['▁', 'ort', 'ographe']"
      ]
     },
     "execution_count": 126,
     "metadata": {},
     "output_type": "execute_result"
    }
   ],
   "source": [
    "tokenizer.tokenize(\"ortographe\")"
   ]
  },
  {
   "cell_type": "code",
   "execution_count": 125,
   "metadata": {},
   "outputs": [
    {
     "data": {
      "text/plain": [
       "[5, 21, 8607, 18486, 6]"
      ]
     },
     "execution_count": 125,
     "metadata": {},
     "output_type": "execute_result"
    }
   ],
   "source": [
    "tokenizer.encode('ortographe')"
   ]
  },
  {
   "cell_type": "code",
   "execution_count": 140,
   "metadata": {},
   "outputs": [],
   "source": [
    "from spellchecker import SpellChecker"
   ]
  },
  {
   "cell_type": "code",
   "execution_count": 141,
   "metadata": {},
   "outputs": [],
   "source": [
    "spell = SpellChecker(language='fr')"
   ]
  },
  {
   "cell_type": "code",
   "execution_count": 142,
   "metadata": {},
   "outputs": [
    {
     "name": "stdout",
     "output_type": "stream",
     "text": [
      "matinnée matinée\n",
      "tecnicien technicien\n",
      "resaissir ressaisir\n",
      "plonbier plombier\n"
     ]
    }
   ],
   "source": [
    "misspelled = [\"resaissir\", \"matinnée\", \"plonbier\", \"tecnicien\"]\n",
    "misspelled = spell.unknown(misspelled)\n",
    "for word in misspelled:\n",
    "    print(word, spell.correction(word))"
   ]
  },
  {
   "cell_type": "code",
   "execution_count": 158,
   "metadata": {},
   "outputs": [
    {
     "data": {
      "text/plain": [
       "0.015231356190294348"
      ]
     },
     "execution_count": 158,
     "metadata": {},
     "output_type": "execute_result"
    }
   ],
   "source": [
    "spell.word_probability(\"un\")"
   ]
  },
  {
   "cell_type": "code",
   "execution_count": 159,
   "metadata": {},
   "outputs": [],
   "source": [
    "spell.word_frequency.load_words(['testest'])"
   ]
  },
  {
   "cell_type": "code",
   "execution_count": 162,
   "metadata": {},
   "outputs": [
    {
     "data": {
      "text/plain": [
       "'faut'"
      ]
     },
     "execution_count": 162,
     "metadata": {},
     "output_type": "execute_result"
    }
   ],
   "source": [
    "spell.correction(\"faut\")"
   ]
  },
  {
   "cell_type": "code",
   "execution_count": 215,
   "metadata": {},
   "outputs": [],
   "source": [
    "voc = set(tokenizer.get_vocab().keys())"
   ]
  },
  {
   "cell_type": "code",
   "execution_count": 199,
   "metadata": {},
   "outputs": [],
   "source": [
    "import spacy"
   ]
  },
  {
   "cell_type": "code",
   "execution_count": 206,
   "metadata": {},
   "outputs": [],
   "source": [
    "nlp = spacy.load('fr')"
   ]
  },
  {
   "cell_type": "code",
   "execution_count": 232,
   "metadata": {},
   "outputs": [
    {
     "data": {
      "text/plain": [
       "[Ceci,\n",
       " est,\n",
       " un,\n",
       " exemple,\n",
       " avec,\n",
       " deux,\n",
       " !,\n",
       " !,\n",
       " !,\n",
       " ?,\n",
       " ?,\n",
       " fotes,\n",
       " d',\n",
       " ortographe,\n",
       " ⚽,\n",
       " ️,\n",
       " ⚾,\n",
       " ️,\n",
       " sans,\n",
       " espace]"
      ]
     },
     "execution_count": 232,
     "metadata": {},
     "output_type": "execute_result"
    }
   ],
   "source": [
    "list(nlp(tweet))"
   ]
  },
  {
   "cell_type": "code",
   "execution_count": 214,
   "metadata": {},
   "outputs": [],
   "source": [
    "car = '▁'"
   ]
  },
  {
   "cell_type": "code",
   "execution_count": 220,
   "metadata": {},
   "outputs": [
    {
     "data": {
      "text/plain": [
       "True"
      ]
     },
     "execution_count": 220,
     "metadata": {},
     "output_type": "execute_result"
    }
   ],
   "source": [
    "car + 'rhum' in voc"
   ]
  },
  {
   "cell_type": "code",
   "execution_count": 229,
   "metadata": {},
   "outputs": [
    {
     "data": {
      "text/plain": [
       "{'cérébral', 'diagnostic', 'oncologie', 'péridurale'}"
      ]
     },
     "execution_count": 229,
     "metadata": {},
     "output_type": "execute_result"
    }
   ],
   "source": [
    "spell.known(['diagnostic', 'oncologie', 'péridurale', 'cérébral'])"
   ]
  },
  {
   "cell_type": "code",
   "execution_count": 239,
   "metadata": {},
   "outputs": [
    {
     "data": {
      "text/plain": [
       "['Ceci', 'est']"
      ]
     },
     "execution_count": 239,
     "metadata": {},
     "output_type": "execute_result"
    }
   ],
   "source": [
    "words = list(map(str, nlp(tweet)))\n",
    "words[:2]"
   ]
  },
  {
   "cell_type": "code",
   "execution_count": 241,
   "metadata": {},
   "outputs": [
    {
     "data": {
      "text/plain": [
       "{'avec', 'ceci', 'deux', 'espace', 'est', 'exemple', 'sans', 'un'}"
      ]
     },
     "execution_count": 241,
     "metadata": {},
     "output_type": "execute_result"
    }
   ],
   "source": [
    "spell.known(words)"
   ]
  },
  {
   "cell_type": "code",
   "execution_count": 243,
   "metadata": {},
   "outputs": [
    {
     "data": {
      "text/plain": [
       "{'avec',\n",
       " 'ceci',\n",
       " 'de',\n",
       " 'deux',\n",
       " 'espace',\n",
       " 'est',\n",
       " 'exemple',\n",
       " 'notes',\n",
       " 'orthographe',\n",
       " 'sans',\n",
       " 'un',\n",
       " 'à'}"
      ]
     },
     "execution_count": 243,
     "metadata": {},
     "output_type": "execute_result"
    }
   ],
   "source": [
    "spell.known(list(map(spell.correction, words)))"
   ]
  },
  {
   "cell_type": "code",
   "execution_count": 296,
   "metadata": {},
   "outputs": [],
   "source": [
    "def in_camembert_voc(word):\n",
    "    return car + word in voc\n",
    "\n",
    "def analyze(tweet):\n",
    "    words = list(map(str, nlp(tweet)))\n",
    "    known = spell.known(words)\n",
    "    known_corrected = spell.known(list(map(spell.correction, words)))\n",
    "    unknown_camembert_words = [word for word in known_corrected if not in_camembert_voc(word)]\n",
    "    return [len(words), len(set(words)), len(known), len(known_corrected), len(known_corrected) - len(unknown_camembert_words)], unknown_camembert_words"
   ]
  },
  {
   "cell_type": "code",
   "execution_count": 297,
   "metadata": {},
   "outputs": [
    {
     "data": {
      "text/plain": [
       "([24, 19, 13, 17, 14], ['favorites', 'astres', 'spartan'])"
      ]
     },
     "execution_count": 297,
     "metadata": {},
     "output_type": "execute_result"
    }
   ],
   "source": [
    "analyze(tweet)"
   ]
  },
  {
   "cell_type": "code",
   "execution_count": 304,
   "metadata": {},
   "outputs": [],
   "source": [
    "n_tweets = 100\n",
    "\n",
    "df_chunk = pd.read_csv('french_tweets.csv', chunksize=5)\n",
    "stats = []\n",
    "counter = Counter()\n",
    "\n",
    "for chunk in df_chunk:\n",
    "    for tweet in chunk.text:\n",
    "        stat, l = analyze(tweet)\n",
    "        stats.append(stat)\n",
    "        counter.update(l)\n",
    "    if len(stats) >= n_tweets:\n",
    "        break"
   ]
  },
  {
   "cell_type": "code",
   "execution_count": 305,
   "metadata": {},
   "outputs": [],
   "source": [
    "stats = np.array(stats)"
   ]
  },
  {
   "cell_type": "code",
   "execution_count": 306,
   "metadata": {},
   "outputs": [],
   "source": [
    "n_words = stats[:,0]\n",
    "n_distinct_words = stats[:,1]\n",
    "n_known = stats[:,2]\n",
    "n_known_corrected = stats[:,3]\n",
    "n_known_camenbert = stats[:,4]"
   ]
  },
  {
   "cell_type": "code",
   "execution_count": 307,
   "metadata": {},
   "outputs": [
    {
     "data": {
      "image/png": "[encoded data removed]",
      "text/plain": [
       "<Figure size 432x288 with 1 Axes>"
      ]
     },
     "metadata": {
      "needs_background": "light"
     },
     "output_type": "display_data"
    }
   ],
   "source": [
    "sns.distplot(n_words, bins=20)\n",
    "plt.show()"
   ]
  },
  {
   "cell_type": "code",
   "execution_count": 318,
   "metadata": {},
   "outputs": [
    {
     "data": {
      "image/png": "[encoded data removed]",
      "text/plain": [
       "<Figure size 432x288 with 1 Axes>"
      ]
     },
     "metadata": {
      "needs_background": "light"
     },
     "output_type": "display_data"
    }
   ],
   "source": [
    "sns.distplot(n_known/n_distinct_words, bins=20)\n",
    "sns.distplot(n_known_corrected/n_distinct_words, bins=20)\n",
    "plt.legend([\"Ratio de mots connus\", \"Ratio de mots connus après correction\"])\n",
    "plt.xlabel(\"Ratio\")\n",
    "plt.ylabel(\"Densité\")\n",
    "plt.title(\"Graph de densité de mots connus / corrigés par SpellChecker\")\n",
    "plt.savefig(f'spell_checker_{len(n_words)}.png')\n",
    "plt.show()"
   ]
  },
  {
   "cell_type": "code",
   "execution_count": 319,
   "metadata": {},
   "outputs": [
    {
     "data": {
      "image/png": "[encoded data removed]",
      "text/plain": [
       "<Figure size 432x288 with 1 Axes>"
      ]
     },
     "metadata": {
      "needs_background": "light"
     },
     "output_type": "display_data"
    }
   ],
   "source": [
    "sns.distplot(n_known_camenbert/n_known_corrected, bins=20)\n",
    "plt.xlabel(\"Ratio\")\n",
    "plt.ylabel(\"Densité\")\n",
    "plt.title(\"Graph de densité de mots connus par camemBERT après SpellChecker\")\n",
    "plt.savefig(f'camembert_known_words_{len(n_words)}.png')\n",
    "plt.show()"
   ]
  },
  {
   "cell_type": "code",
   "execution_count": 310,
   "metadata": {},
   "outputs": [
    {
     "data": {
      "text/plain": [
       "0.9234076673287989"
      ]
     },
     "execution_count": 310,
     "metadata": {},
     "output_type": "execute_result"
    }
   ],
   "source": [
    "(n_known_camenbert/n_known_corrected).mean()"
   ]
  },
  {
   "cell_type": "code",
   "execution_count": 311,
   "metadata": {},
   "outputs": [
    {
     "data": {
      "text/plain": [
       "Counter({'summer': 1,\n",
       "         'carr': 1,\n",
       "         'david': 1,\n",
       "         'aww': 2,\n",
       "         'aujourdhui': 5,\n",
       "         'meurs': 1,\n",
       "         'embarrassante': 1,\n",
       "         'ua': 1,\n",
       "         'ida': 1,\n",
       "         'parles': 1,\n",
       "         'zac': 1,\n",
       "         'snyder': 1,\n",
       "         'manques': 1,\n",
       "         'aimerais': 1,\n",
       "         'hollis': 1,\n",
       "         'ahh': 1,\n",
       "         'oubliées': 1,\n",
       "         'buviez': 1,\n",
       "         'blah': 1,\n",
       "         'marley': 1,\n",
       "         'refuserai': 1,\n",
       "         'ooooh': 1,\n",
       "         'leslie': 1,\n",
       "         'fâcher': 1,\n",
       "         'piraté': 1,\n",
       "         'engrenage': 1,\n",
       "         'anaheim': 1,\n",
       "         'travaillerai': 1,\n",
       "         'gmt': 1,\n",
       "         'déprimant': 1,\n",
       "         'larme': 1,\n",
       "         'aise': 1,\n",
       "         'endormir': 1,\n",
       "         'tracy': 1,\n",
       "         'yay': 1,\n",
       "         'walking': 1,\n",
       "         'blackberry': 1,\n",
       "         'lily': 1,\n",
       "         'samcro': 1,\n",
       "         'tweeter': 1,\n",
       "         'défilez': 1,\n",
       "         'tweets': 1,\n",
       "         'éclabousser': 1,\n",
       "         'pos': 1,\n",
       "         'dallas': 1,\n",
       "         'mmm': 1,\n",
       "         'utiliseront': 1,\n",
       "         'ugh': 1,\n",
       "         'sd': 1,\n",
       "         'as': 1,\n",
       "         'hmmm': 1,\n",
       "         'dutch': 1,\n",
       "         'mao': 1,\n",
       "         'aw': 1,\n",
       "         'chuck': 1,\n",
       "         'retournez': 1,\n",
       "         'palourdes': 1,\n",
       "         'échouée': 1,\n",
       "         'mister': 1,\n",
       "         'heurtée': 1,\n",
       "         'mignonnes': 1,\n",
       "         'puma': 1,\n",
       "         'shorts': 1,\n",
       "         'montreras': 1,\n",
       "         'agrumes': 1,\n",
       "         'csi': 1,\n",
       "         'dors': 1,\n",
       "         'incroyables': 1,\n",
       "         'boo': 1,\n",
       "         'damn': 1,\n",
       "         'craie': 1,\n",
       "         'getty': 1,\n",
       "         'hey': 2,\n",
       "         'amère': 1,\n",
       "         'hypnose': 1,\n",
       "         'endormis': 1,\n",
       "         'énerve': 1,\n",
       "         'hahaha': 1,\n",
       "         'photoshop': 1,\n",
       "         'cameron': 1,\n",
       "         'anniversaires': 1,\n",
       "         'priez': 1,\n",
       "         'hmm': 1,\n",
       "         'constants': 1,\n",
       "         'striker': 1,\n",
       "         'ohh': 1,\n",
       "         'steve': 1,\n",
       "         'pâques': 1,\n",
       "         'brackett': 1,\n",
       "         'favorites': 1,\n",
       "         'astres': 1,\n",
       "         'spartan': 1})"
      ]
     },
     "execution_count": 311,
     "metadata": {},
     "output_type": "execute_result"
    }
   ],
   "source": [
    "counter"
   ]
  },
  {
   "cell_type": "code",
   "execution_count": null,
   "metadata": {},
   "outputs": [],
   "source": []
  }
 ],
 "metadata": {
  "kernelspec": {
   "display_name": "Python 3",
   "language": "python",
   "name": "python3"
  },
  "language_info": {
   "codemirror_mode": {
    "name": "ipython",
    "version": 3
   },
   "file_extension": ".py",
   "mimetype": "text/x-python",
   "name": "python",
   "nbconvert_exporter": "python",
   "pygments_lexer": "ipython3",
   "version": "3.7.6"
  }
 },
 "nbformat": 4,
 "nbformat_minor": 4
}
