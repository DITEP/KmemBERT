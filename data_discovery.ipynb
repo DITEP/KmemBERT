{
 "cells": [
  {
   "cell_type": "markdown",
   "metadata": {},
   "source": [
    "#### Environment used: kmembert_env"
   ]
  },
  {
   "cell_type": "code",
   "execution_count": 1,
   "metadata": {},
   "outputs": [],
   "source": [
    "#!python -m spacy download fr_core_news_sm\n",
    "import os\n",
    "import sys\n",
    "module_path = os.path.abspath(os.path.join('..'))\n",
    "if module_path not in sys.path:\n",
    "    sys.path.append(module_path)"
   ]
  },
  {
   "cell_type": "code",
   "execution_count": 15,
   "metadata": {},
   "outputs": [],
   "source": [
    "import numpy as np\n",
    "import os\n",
    "import argparse\n",
    "from time import time\n",
    "from collections import defaultdict\n",
    "import matplotlib.pyplot as plt\n",
    "import re\n",
    "\n",
    "import torch\n",
    "from torch.utils.data import DataLoader\n",
    "\n",
    "from KmemBERT.kmembert.dataset import EHRDataset\n",
    "from KmemBERT.kmembert.utils import pretty_time, printc, create_session, save_json, get_label_threshold, get_error\n",
    "from KmemBERT.kmembert.models import HealthBERT\n",
    "from KmemBERT.kmembert.testing import test\n",
    "\n",
    "from KmemBERT.kmembert.preprocesser import EHRPreprocesser\n",
    "from KmemBERT.kmembert.utils import get_label, time_survival_to_label, printc\n",
    "from KmemBERT.kmembert.preprocessing.correction import *"
   ]
  },
  {
   "cell_type": "code",
   "execution_count": 3,
   "metadata": {},
   "outputs": [],
   "source": [
    "parser = argparse.ArgumentParser()\n",
    "parser.add_argument(\"-d\", \"--data_folder\", type=str, default=\"ehr\", \n",
    "    help=\"data folder name\")\n",
    "parser.add_argument(\"-dict\", \"--dict_name\", type=str, default=\"fr-100k.txt\", \n",
    "    help=\"french dict path. Please use the default one except if you know what you are doing\")\n",
    "parser.add_argument(\"-dist\", \"--distance\", type=int, default=2, \n",
    "    help=\"distance parameter\")\n",
    "parser.add_argument(\"-mtl\", \"--min_token_length\", type=int, default=5, \n",
    "    help=\"min token length to be corrected\")\n",
    "\n",
    "args = parser.parse_args(\"\")"
   ]
  },
  {
   "cell_type": "code",
   "execution_count": 4,
   "metadata": {},
   "outputs": [
    {
     "ename": "NameError",
     "evalue": "name 'pd' is not defined",
     "output_type": "error",
     "traceback": [
      "\u001b[1;31m---------------------------------------------------------------------------\u001b[0m",
      "\u001b[1;31mNameError\u001b[0m                                 Traceback (most recent call last)",
      "\u001b[1;32m~\\AppData\\Local\\Temp\\ipykernel_1880\\441797619.py\u001b[0m in \u001b[0;36m<module>\u001b[1;34m\u001b[0m\n\u001b[0;32m      4\u001b[0m \u001b[0mpath_dead\u001b[0m \u001b[1;33m=\u001b[0m \u001b[1;34m\"C:\\\\Users\\\\DIPIAZZA\\\\Documents\\\\CLB Projet\\\\Data\\\\CLB\\\\6_dossiers\\\\dead_small.json\"\u001b[0m\u001b[1;33m\u001b[0m\u001b[1;33m\u001b[0m\u001b[0m\n\u001b[0;32m      5\u001b[0m \u001b[1;33m\u001b[0m\u001b[0m\n\u001b[1;32m----> 6\u001b[1;33m \u001b[0mdf_alive\u001b[0m \u001b[1;33m=\u001b[0m \u001b[0mpd\u001b[0m\u001b[1;33m.\u001b[0m\u001b[0mread_json\u001b[0m\u001b[1;33m(\u001b[0m\u001b[0mpath_alive\u001b[0m\u001b[1;33m)\u001b[0m\u001b[1;33m\u001b[0m\u001b[1;33m\u001b[0m\u001b[0m\n\u001b[0m\u001b[0;32m      7\u001b[0m \u001b[0mdf_dead\u001b[0m \u001b[1;33m=\u001b[0m \u001b[0mpd\u001b[0m\u001b[1;33m.\u001b[0m\u001b[0mread_json\u001b[0m\u001b[1;33m(\u001b[0m\u001b[0mpath_dead\u001b[0m\u001b[1;33m)\u001b[0m\u001b[1;33m\u001b[0m\u001b[1;33m\u001b[0m\u001b[0m\n\u001b[0;32m      8\u001b[0m \u001b[1;33m\u001b[0m\u001b[0m\n",
      "\u001b[1;31mNameError\u001b[0m: name 'pd' is not defined"
     ]
    }
   ],
   "source": [
    "from collections import Counter\n",
    "# Read dataframes\n",
    "path_alive = \"C:\\\\Users\\\\DIPIAZZA\\\\Documents\\\\CLB Projet\\\\Data\\\\CLB\\\\6_dossiers\\\\alive_small.json\"\n",
    "path_dead = \"C:\\\\Users\\\\DIPIAZZA\\\\Documents\\\\CLB Projet\\\\Data\\\\CLB\\\\6_dossiers\\\\dead_small.json\"\n",
    "\n",
    "df_alive = pd.read_json(path_alive)\n",
    "df_dead = pd.read_json(path_dead)\n",
    "\n",
    "# Add Flag_dead : 1 if dead, 0 otherwise\n",
    "df_alive['FLAG_dead'] = 0\n",
    "df_dead['FLAG_dead'] = 1\n",
    "\n",
    "# Concatenated dataframe\n",
    "df = pd.concat([df_alive, df_dead])\n",
    "df.head()"
   ]
  },
  {
   "cell_type": "markdown",
   "metadata": {},
   "source": [
    "#### Liste des expressions (str) à supprimer (inutiles dans la modelisation)"
   ]
  },
  {
   "cell_type": "code",
   "execution_count": 5,
   "metadata": {},
   "outputs": [],
   "source": [
    "from spacy.lang.fr.stop_words import STOP_WORDS as fr_stop\n",
    "import re\n",
    "\n",
    "def clean_step(data: pd.DataFrame, text_name: str):\n",
    "    \"\"\"\n",
    "    df: pd.DataFrame: indicates which dataframe to clean\n",
    "    text_name: str: name of the column which contains text\n",
    "    This function permits to add a column to the df with cleaned and pre-process text\n",
    "    \"\"\"\n",
    "    # Initialize TextCorrector Object (correction.py)\n",
    "    nlp = spacy.load('fr_core_news_sm')\n",
    "    corrector = get_corrector(args)\n",
    "    text_corrector = TextCorrector(nlp, corrector, min_token_length=args.min_token_length)\n",
    "    text_corrector.reset()\n",
    "\n",
    "    # Suppression des XXXXX (anonymisation) par patientnom\n",
    "    data[\"newText\"] = data[text_name].apply(lambda x: re.sub(\"XXXXXX\\S*\", '[nom]', x))\n",
    "\n",
    "    # Utilisation du correction\n",
    "    data[\"newText\"] = data[\"newText\"].progress_apply(text_corrector)\n",
    "\n",
    "    # Partie consacree au cleaning + suppression des infos non desirees\n",
    "    data[\"newText\"] = data[\"newText\"]\n",
    "\n",
    "    # Suppression de certains mots pas utiles\n",
    "    part_to_remove = [\"Compte-rendu de consultation\", \"Email\", \"mail\", \"Tél.\", \"Fax\", \"Emsll\", \"Emsil\"]\n",
    "    for to_remove in part_to_remove:\n",
    "        data[\"newText\"] = data[\"newText\"].apply(lambda x: re.sub(to_remove, '', x))\n",
    "\n",
    "    # Suppresion des adresses mails\n",
    "    data[\"newText\"] = data[\"newText\"].apply(lambda x: re.sub(\"\\S*@\\S*\\s\", '', x))\n",
    "\n",
    "    # Suppression des sites internets\n",
    "    data[\"newText\"] = data[\"newText\"].apply(lambda x: re.sub(\"\\S*.fr\", '', x))\n",
    "\n",
    "    # Suppression de certaines chaines de characteres inutiles\n",
    "    data[\"newText\"] = data[\"newText\"].apply(lambda x: re.sub(\"\\S* :\", '', x))\n",
    "\n",
    "    # Suppression des numeros de telephone\n",
    "    data[\"newText\"] = data[\"newText\"].apply(lambda x: re.sub(\" \\d+\", \" \", x))\n",
    "\n",
    "    # Suppression des stop-words\n",
    "    fr_stop_list_space = [' {0} '.format(elem) for elem in list(fr_stop)]\n",
    "    for to_remove in fr_stop_list_space:\n",
    "        data[\"newText\"] = data[\"newText\"].apply(lambda x: re.sub(to_remove, ' ', x))\n",
    "\n",
    "    return data"
   ]
  },
  {
   "cell_type": "code",
   "execution_count": 6,
   "metadata": {},
   "outputs": [
    {
     "name": "stderr",
     "output_type": "stream",
     "text": [
      "100%|██████████| 166/166 [00:13<00:00, 12.53it/s]\n"
     ]
    },
    {
     "data": {
      "text/html": [
       "<div>\n",
       "<style scoped>\n",
       "    .dataframe tbody tr th:only-of-type {\n",
       "        vertical-align: middle;\n",
       "    }\n",
       "\n",
       "    .dataframe tbody tr th {\n",
       "        vertical-align: top;\n",
       "    }\n",
       "\n",
       "    .dataframe thead th {\n",
       "        text-align: right;\n",
       "    }\n",
       "</style>\n",
       "<table border=\"1\" class=\"dataframe\">\n",
       "  <thead>\n",
       "    <tr style=\"text-align: right;\">\n",
       "      <th></th>\n",
       "      <th>AnonymizedIpp</th>\n",
       "      <th>SourceTitle</th>\n",
       "      <th>Text</th>\n",
       "      <th>FLAG_dead</th>\n",
       "      <th>newText</th>\n",
       "    </tr>\n",
       "  </thead>\n",
       "  <tbody>\n",
       "    <tr>\n",
       "      <th>0</th>\n",
       "      <td>67988a7aeaf96959fe35ee1633ddba37f27543b1a40a89...</td>\n",
       "      <td>Compte-rendu de consultation</td>\n",
       "      <td>Compte-rendu de consultation ContenuAvis de co...</td>\n",
       "      <td>0</td>\n",
       "      <td>continuais comite avis thÃ©rapeutique. Jetaie...</td>\n",
       "    </tr>\n",
       "    <tr>\n",
       "      <th>1</th>\n",
       "      <td>67988a7aeaf96959fe35ee1633ddba37f27543b1a40a89...</td>\n",
       "      <td>Compte-rendu de consultation</td>\n",
       "      <td>Compte-rendu de consultation ContenuPatiente v...</td>\n",
       "      <td>0</td>\n",
       "      <td>contenupatiente vue ambulatoire traitement. L...</td>\n",
       "    </tr>\n",
       "    <tr>\n",
       "      <th>2</th>\n",
       "      <td>67988a7aeaf96959fe35ee1633ddba37f27543b1a40a89...</td>\n",
       "      <td>Compte-rendu de consultation</td>\n",
       "      <td>Compte-rendu de consultation ContenuPatiente v...</td>\n",
       "      <td>0</td>\n",
       "      <td>contenupatiente vue ambulatoire traitement. L...</td>\n",
       "    </tr>\n",
       "    <tr>\n",
       "      <th>3</th>\n",
       "      <td>67988a7aeaf96959fe35ee1633ddba37f27543b1a40a89...</td>\n",
       "      <td>Compte-rendu de consultation</td>\n",
       "      <td>Compte-rendu de consultation ContenuPatiente v...</td>\n",
       "      <td>0</td>\n",
       "      <td>contenupatiente vue ambulatoire visite survei...</td>\n",
       "    </tr>\n",
       "    <tr>\n",
       "      <th>4</th>\n",
       "      <td>67988a7aeaf96959fe35ee1633ddba37f27543b1a40a89...</td>\n",
       "      <td>Compte-rendu de consultation</td>\n",
       "      <td>Compte-rendu de consultation ContenuPatiente v...</td>\n",
       "      <td>0</td>\n",
       "      <td>contenupatiente vue ambulatoire visite survei...</td>\n",
       "    </tr>\n",
       "    <tr>\n",
       "      <th>...</th>\n",
       "      <td>...</td>\n",
       "      <td>...</td>\n",
       "      <td>...</td>\n",
       "      <td>...</td>\n",
       "      <td>...</td>\n",
       "    </tr>\n",
       "    <tr>\n",
       "      <th>61</th>\n",
       "      <td>7787b59e5fb123a481c094bbecbda9b3ac15bf52810dc7...</td>\n",
       "      <td>Compte-rendu de consultation</td>\n",
       "      <td>Compte-rendu de consultation Contenu15Gy.</td>\n",
       "      <td>1</td>\n",
       "      <td>contenu15gy.</td>\n",
       "    </tr>\n",
       "    <tr>\n",
       "      <th>62</th>\n",
       "      <td>7787b59e5fb123a481c094bbecbda9b3ac15bf52810dc7...</td>\n",
       "      <td>Compte-rendu de consultation</td>\n",
       "      <td>Compte-rendu de consultation Contenu21Gy.</td>\n",
       "      <td>1</td>\n",
       "      <td>contenu21gy.</td>\n",
       "    </tr>\n",
       "    <tr>\n",
       "      <th>63</th>\n",
       "      <td>7787b59e5fb123a481c094bbecbda9b3ac15bf52810dc7...</td>\n",
       "      <td>Compte-rendu de consultation</td>\n",
       "      <td>Compte-rendu de consultationva bien . Le cou e...</td>\n",
       "      <td>1</td>\n",
       "      <td>. Le cou souple</td>\n",
       "    </tr>\n",
       "    <tr>\n",
       "      <th>64</th>\n",
       "      <td>7787b59e5fb123a481c094bbecbda9b3ac15bf52810dc7...</td>\n",
       "      <td>Compte-rendu de consultation</td>\n",
       "      <td>Compte-rendu de consultation Contenu36 GY. Va ...</td>\n",
       "      <td>1</td>\n",
       "      <td>contenu gy. Va bien.</td>\n",
       "    </tr>\n",
       "    <tr>\n",
       "      <th>65</th>\n",
       "      <td>7787b59e5fb123a481c094bbecbda9b3ac15bf52810dc7...</td>\n",
       "      <td>Compte-rendu de consultation</td>\n",
       "      <td>Compte-rendu de consultation Contenurevu à la ...</td>\n",
       "      <td>1</td>\n",
       "      <td>contenurevu croix rousse bien. Trachyte sache.</td>\n",
       "    </tr>\n",
       "  </tbody>\n",
       "</table>\n",
       "<p>166 rows × 5 columns</p>\n",
       "</div>"
      ],
      "text/plain": [
       "                                        AnonymizedIpp  \\\n",
       "0   67988a7aeaf96959fe35ee1633ddba37f27543b1a40a89...   \n",
       "1   67988a7aeaf96959fe35ee1633ddba37f27543b1a40a89...   \n",
       "2   67988a7aeaf96959fe35ee1633ddba37f27543b1a40a89...   \n",
       "3   67988a7aeaf96959fe35ee1633ddba37f27543b1a40a89...   \n",
       "4   67988a7aeaf96959fe35ee1633ddba37f27543b1a40a89...   \n",
       "..                                                ...   \n",
       "61  7787b59e5fb123a481c094bbecbda9b3ac15bf52810dc7...   \n",
       "62  7787b59e5fb123a481c094bbecbda9b3ac15bf52810dc7...   \n",
       "63  7787b59e5fb123a481c094bbecbda9b3ac15bf52810dc7...   \n",
       "64  7787b59e5fb123a481c094bbecbda9b3ac15bf52810dc7...   \n",
       "65  7787b59e5fb123a481c094bbecbda9b3ac15bf52810dc7...   \n",
       "\n",
       "                     SourceTitle  \\\n",
       "0   Compte-rendu de consultation   \n",
       "1   Compte-rendu de consultation   \n",
       "2   Compte-rendu de consultation   \n",
       "3   Compte-rendu de consultation   \n",
       "4   Compte-rendu de consultation   \n",
       "..                           ...   \n",
       "61  Compte-rendu de consultation   \n",
       "62  Compte-rendu de consultation   \n",
       "63  Compte-rendu de consultation   \n",
       "64  Compte-rendu de consultation   \n",
       "65  Compte-rendu de consultation   \n",
       "\n",
       "                                                 Text  FLAG_dead  \\\n",
       "0   Compte-rendu de consultation ContenuAvis de co...          0   \n",
       "1   Compte-rendu de consultation ContenuPatiente v...          0   \n",
       "2   Compte-rendu de consultation ContenuPatiente v...          0   \n",
       "3   Compte-rendu de consultation ContenuPatiente v...          0   \n",
       "4   Compte-rendu de consultation ContenuPatiente v...          0   \n",
       "..                                                ...        ...   \n",
       "61          Compte-rendu de consultation Contenu15Gy.          1   \n",
       "62          Compte-rendu de consultation Contenu21Gy.          1   \n",
       "63  Compte-rendu de consultationva bien . Le cou e...          1   \n",
       "64  Compte-rendu de consultation Contenu36 GY. Va ...          1   \n",
       "65  Compte-rendu de consultation Contenurevu à la ...          1   \n",
       "\n",
       "                                              newText  \n",
       "0    continuais comite avis thÃ©rapeutique. Jetaie...  \n",
       "1    contenupatiente vue ambulatoire traitement. L...  \n",
       "2    contenupatiente vue ambulatoire traitement. L...  \n",
       "3    contenupatiente vue ambulatoire visite survei...  \n",
       "4    contenupatiente vue ambulatoire visite survei...  \n",
       "..                                                ...  \n",
       "61                                       contenu15gy.  \n",
       "62                                       contenu21gy.  \n",
       "63                                    . Le cou souple  \n",
       "64                               contenu gy. Va bien.  \n",
       "65     contenurevu croix rousse bien. Trachyte sache.  \n",
       "\n",
       "[166 rows x 5 columns]"
      ]
     },
     "execution_count": 6,
     "metadata": {},
     "output_type": "execute_result"
    }
   ],
   "source": [
    "clean_step(df, \"Text\")"
   ]
  },
  {
   "cell_type": "markdown",
   "metadata": {},
   "source": [
    "#### Nombre de mots par séquence"
   ]
  },
  {
   "cell_type": "code",
   "execution_count": 7,
   "metadata": {},
   "outputs": [],
   "source": [
    "df['nb_words'] = df['Text'].apply(lambda x: len(x.split()))"
   ]
  },
  {
   "cell_type": "code",
   "execution_count": 8,
   "metadata": {},
   "outputs": [
    {
     "data": {
      "text/plain": [
       "<seaborn.axisgrid.FacetGrid at 0x18bd0ca3d08>"
      ]
     },
     "execution_count": 8,
     "metadata": {},
     "output_type": "execute_result"
    },
    {
     "data": {
      "image/png": "[encoded data removed]",
      "text/plain": [
       "<Figure size 360x360 with 1 Axes>"
      ]
     },
     "metadata": {
      "needs_background": "light"
     },
     "output_type": "display_data"
    }
   ],
   "source": [
    "import seaborn as sns\n",
    "sns.displot(df, x=\"nb_words\")"
   ]
  },
  {
   "cell_type": "code",
   "execution_count": 9,
   "metadata": {},
   "outputs": [
    {
     "data": {
      "text/plain": [
       "<seaborn.axisgrid.FacetGrid at 0x18bcaa171c8>"
      ]
     },
     "execution_count": 9,
     "metadata": {},
     "output_type": "execute_result"
    },
    {
     "data": {
      "image/png": "[encoded data removed]",
      "text/plain": [
       "<Figure size 360x360 with 1 Axes>"
      ]
     },
     "metadata": {
      "needs_background": "light"
     },
     "output_type": "display_data"
    }
   ],
   "source": [
    "df = df.drop(df[df.nb_words > 1000].index)\n",
    "\n",
    "sns.displot(df, x=\"nb_words\", bins=100)"
   ]
  },
  {
   "cell_type": "code",
   "execution_count": 10,
   "metadata": {},
   "outputs": [
    {
     "name": "stdout",
     "output_type": "stream",
     "text": [
      "Compte-rendu de consultation ContenuPatiente vue lors d'une hospitalisation pour un suivi de traitement. Karnofsky = 60 %, PS = 2, Poids actuel = 85,0 kg, Indice masse corporelle = 29,41 kg/m².   Diagnostic : Carcinome ovarien type séreux de haut grade, actuellement en rechute métastatique péritonéal. Variant inconnu de BRCA2. Motif : Suivi après 6 cures dans le protocole BOLD ( C1J1 24/07/19)   Histoire de la maladie : - 2017 : Découverte stade IV pleural initial, chimiothérapie CARBO TAXOL première puis Cytoréduction CC0-CC1 avec omentectomie - péritonectomie douglassectomie étendue + curage pelvien en Juin 2017. 2 cures post-opératoires de CARBO TAXOL puis entretien par AVASTIN puis arrêt. CA125 11000 initial normalisé. - Octobre 2018 : Rechute platino-Sensible (+15mois) marqueur CA125 à 40 et TEP + centro pelvien traitée par CARBO-GEMZAR (pas de compte-rendu, CARBO CAELYX recommandé en RCP ?), - mars 2019 : bonne réponse à la chimiothérapie, inclusion dans CHIPOR le 14/03/2019 : cytoréduction avec colectomie totale, péritonectomie mésentère et pré-vésicale, splénectomie + CHIP au CISPLATINE. - juin 2019 : nouvelle progression 5  mois après la chimiothérapie, ascension du marqueur et au pet-scan, récidive péri-hépatique rétro-péritonéale A noter : splénectomie, maladie de Crohn antérieure à la colectomie totale.   Récemment : stabilité morphologique à 4 cures et réponse biologique initiale, mais : - Octobre 2019  : découverte  d'une embolie pulmonaire avec passage au déchoquage, sur TVP MIG sans facteur déclenchant pouvant être reliée à sa maladie - Douleurs épigastriques grade II à priori non reliées, chez une patiente déjà sou OMEPRAZOLE 40 x 2 au long cours, soulagées uniquement depuis l'instauration d'un traitement morphinique. Clinique ce jour : PS2  - poids 85kg, appétit en baisse satiété précoce, 105/66 - pouls 59 - fréquence respiratoire 22 - température 36.2° Abdomen souple sans masse notamment épigastrique, pas de modification du transit (diarrhées chroniques grade II non reliées, stables sous IMODIUM depuis les chirurgies).   Traitements concomitants : Instauration d'INNOHEP SC 1/j, d'OXYCONTIN10 2 fois par jour et OXYNORM 5mg pour douleurs épigastriques, INEXIUM augmenté à 40 mg en comprimé matin et soir, Le reste des traitements est inchangé :  OLAPARIB 300 mg matin et soir. LOPERAMIDE 6 gélules/jour au long cours, TIORFAN si besoin 3/j PRIMPERAN 10 mg à la demande en cas de nausées. DEROXAT 30 mg le soir ZOPICLONE 10 mg le soir BROMAZEPAM 1,5 mg 1/2 comprimé le soir ORACILLINE 1 000 000 d'unités matin et soir    Biologie ce jour : - CA125 initial 1 450 UI/L en juillet 2019 , Nadir à 617 le 14/10/2019, ce jour CA 125 à 1142 UI/L - Albumine à 34g/dL , LDH à 242, - Le reste de l'examen est normal. Scanner thoraco-abdomino-pelvien du 4/11/19 réalisé en ville : les lésions péritonéales sont décrites comme stables comparées au 3/10 avec lésion du hile hépatique mesurée à 23mm et un nodule péritonéale gauche à 16 mm. Une relecture RECIST est demandée de principe, il semble que la lésion hilaire hépatique soit stable depuis octobre. Au total : * On discute avec la patiente et ses parents de la très probable progression de la maladie , sur le plan biologique ( CA 125 doublé), clinique (EP, AEG, douleurs), même si pas de progression scanographique nette puisque diminution non significative initiale puis stabilité du hile hépatique, stabilité qui n'exclut pas une progression de la maladie microscopique. En l'absence d'intolérance des traitements,  on prend le parti de réaliser les injections ce jour mais la patiente sortirait de l'essai si confirmation d'indication de changement de ligne en RCP, dans l'intervalle de quoi nous discuterons du changement de traitement avec très probablement la reprise de chimiothérapie. On envisagera alors un traitement par CAELYX, possiblement en association, soit de nouveau avec du CARBOPLATINE ( rechute à 5 mois et nous sommes actuellement à 9 mois de la dernière cure, mais mal toléré en 2ème ligne avec asthénie majeure et nausées, ) soit avec de la TRABECTEDIN. (ETT prescrite).   * Concernant les symptômes: - nous serons vigilants à ses douleurs épigastriques, possiblement d'origine tumorale sur le duodenum comme discuté avec le  [DOCTOR]  mais qui justifieraient une endoscopie en cas d'aggravation. - vigilance aussi sur risque de dénutrition car anorexie partielle et satiété précoce.   Double aux correspondants. \n",
      "\n"
     ]
    }
   ],
   "source": [
    "for i in df[(df.nb_words > 600) & (df.nb_words < 700)][\"Text\"]:\n",
    "    print(i, \"\\n\")"
   ]
  },
  {
   "cell_type": "code",
   "execution_count": 11,
   "metadata": {},
   "outputs": [
    {
     "data": {
      "text/plain": [
       "9"
      ]
     },
     "execution_count": 11,
     "metadata": {},
     "output_type": "execute_result"
    }
   ],
   "source": [
    "len(df[(df.nb_words > 40) & (df.nb_words < 60)]['Text'])"
   ]
  },
  {
   "cell_type": "code",
   "execution_count": 1,
   "metadata": {},
   "outputs": [
    {
     "ename": "NameError",
     "evalue": "name 'df' is not defined",
     "output_type": "error",
     "traceback": [
      "\u001b[1;31m---------------------------------------------------------------------------\u001b[0m",
      "\u001b[1;31mNameError\u001b[0m                                 Traceback (most recent call last)",
      "\u001b[1;32m~\\AppData\\Local\\Temp\\ipykernel_15232\\1524934260.py\u001b[0m in \u001b[0;36m<module>\u001b[1;34m\u001b[0m\n\u001b[0;32m      1\u001b[0m \u001b[1;31m# Isoler les individus avec un nombre de mots compris entre 40 et 400.\u001b[0m\u001b[1;33m\u001b[0m\u001b[1;33m\u001b[0m\u001b[1;33m\u001b[0m\u001b[0m\n\u001b[1;32m----> 2\u001b[1;33m \u001b[0mdf_filter\u001b[0m \u001b[1;33m=\u001b[0m \u001b[0mdf\u001b[0m\u001b[1;33m[\u001b[0m\u001b[1;33m(\u001b[0m\u001b[0mdf\u001b[0m\u001b[1;33m.\u001b[0m\u001b[0mnb_words\u001b[0m \u001b[1;33m>=\u001b[0m \u001b[1;36m40\u001b[0m\u001b[1;33m)\u001b[0m \u001b[1;33m&\u001b[0m \u001b[1;33m(\u001b[0m\u001b[0mdf\u001b[0m\u001b[1;33m.\u001b[0m\u001b[0mnb_words\u001b[0m \u001b[1;33m<=\u001b[0m \u001b[1;36m400\u001b[0m\u001b[1;33m)\u001b[0m\u001b[1;33m]\u001b[0m\u001b[1;33m\u001b[0m\u001b[1;33m\u001b[0m\u001b[0m\n\u001b[0m\u001b[0;32m      3\u001b[0m \u001b[1;33m\u001b[0m\u001b[0m\n\u001b[0;32m      4\u001b[0m \u001b[0mprint\u001b[0m\u001b[1;33m(\u001b[0m\u001b[1;34m\"Shape of the df before filtered:\"\u001b[0m\u001b[1;33m,\u001b[0m \u001b[0mdf\u001b[0m\u001b[1;33m.\u001b[0m\u001b[0mshape\u001b[0m\u001b[1;33m)\u001b[0m\u001b[1;33m\u001b[0m\u001b[1;33m\u001b[0m\u001b[0m\n\u001b[0;32m      5\u001b[0m \u001b[0mprint\u001b[0m\u001b[1;33m(\u001b[0m\u001b[1;34m\"Shape of the df after filtered:\"\u001b[0m\u001b[1;33m,\u001b[0m \u001b[0mdf_filter\u001b[0m\u001b[1;33m.\u001b[0m\u001b[0mshape\u001b[0m\u001b[1;33m)\u001b[0m\u001b[1;33m\u001b[0m\u001b[1;33m\u001b[0m\u001b[0m\n",
      "\u001b[1;31mNameError\u001b[0m: name 'df' is not defined"
     ]
    }
   ],
   "source": [
    "# Isoler les individus avec un nombre de mots compris entre 40 et 400. \n",
    "df_filter = df[(df.nb_words >= 40) & (df.nb_words <= 400)]\n",
    "\n",
    "print(\"Shape of the df before filtered:\", df.shape)\n",
    "print(\"Shape of the df after filtered:\", df_filter.shape)\n",
    "df_filter"
   ]
  },
  {
   "cell_type": "code",
   "execution_count": 14,
   "metadata": {},
   "outputs": [],
   "source": [
    "df_filter.to_csv(\"C:\\\\Users\\\\DIPIAZZA\\\\Documents\\\\CLB Projet\\\\Data\\\\CLB\\\\6_dossiers\\\\df_filter.csv\", index=False)"
   ]
  },
  {
   "cell_type": "code",
   "execution_count": null,
   "metadata": {},
   "outputs": [],
   "source": []
  }
 ],
 "metadata": {
  "interpreter": {
   "hash": "d30e282fed7dc5f3c8822663add599cc2401cd25887475aec3f8e89f78362c8f"
  },
  "kernelspec": {
   "display_name": "Python 3.7.11 ('kmembert_env')",
   "language": "python",
   "name": "python3"
  },
  "language_info": {
   "codemirror_mode": {
    "name": "ipython",
    "version": 3
   },
   "file_extension": ".py",
   "mimetype": "text/x-python",
   "name": "python",
   "nbconvert_exporter": "python",
   "pygments_lexer": "ipython3",
   "version": "3.7.11"
  },
  "orig_nbformat": 4
 },
 "nbformat": 4,
 "nbformat_minor": 2
}
