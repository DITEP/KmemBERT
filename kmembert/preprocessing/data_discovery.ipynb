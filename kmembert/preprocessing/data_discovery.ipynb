{
 "cells": [
  {
   "cell_type": "markdown",
   "metadata": {},
   "source": [
    "#### Environment used: kmembert_env"
   ]
  },
  {
   "cell_type": "code",
   "execution_count": 1,
   "metadata": {},
   "outputs": [],
   "source": [
    "import json\n",
    "import pandas as pd\n",
    "from collections import Counter"
   ]
  },
  {
   "cell_type": "code",
   "execution_count": 2,
   "metadata": {},
   "outputs": [
    {
     "data": {
      "text/html": [
       "<div>\n",
       "<style scoped>\n",
       "    .dataframe tbody tr th:only-of-type {\n",
       "        vertical-align: middle;\n",
       "    }\n",
       "\n",
       "    .dataframe tbody tr th {\n",
       "        vertical-align: top;\n",
       "    }\n",
       "\n",
       "    .dataframe thead th {\n",
       "        text-align: right;\n",
       "    }\n",
       "</style>\n",
       "<table border=\"1\" class=\"dataframe\">\n",
       "  <thead>\n",
       "    <tr style=\"text-align: right;\">\n",
       "      <th></th>\n",
       "      <th>AnonymizedIpp</th>\n",
       "      <th>SourceTitle</th>\n",
       "      <th>Text</th>\n",
       "      <th>FLAG_dead</th>\n",
       "    </tr>\n",
       "  </thead>\n",
       "  <tbody>\n",
       "    <tr>\n",
       "      <th>0</th>\n",
       "      <td>67988a7aeaf96959fe35ee1633ddba37f27543b1a40a89...</td>\n",
       "      <td>Compte-rendu de consultation</td>\n",
       "      <td>Compte-rendu de consultation ContenuAvis de co...</td>\n",
       "      <td>0</td>\n",
       "    </tr>\n",
       "    <tr>\n",
       "      <th>1</th>\n",
       "      <td>67988a7aeaf96959fe35ee1633ddba37f27543b1a40a89...</td>\n",
       "      <td>Compte-rendu de consultation</td>\n",
       "      <td>Compte-rendu de consultation ContenuPatiente v...</td>\n",
       "      <td>0</td>\n",
       "    </tr>\n",
       "    <tr>\n",
       "      <th>2</th>\n",
       "      <td>67988a7aeaf96959fe35ee1633ddba37f27543b1a40a89...</td>\n",
       "      <td>Compte-rendu de consultation</td>\n",
       "      <td>Compte-rendu de consultation ContenuPatiente v...</td>\n",
       "      <td>0</td>\n",
       "    </tr>\n",
       "    <tr>\n",
       "      <th>3</th>\n",
       "      <td>67988a7aeaf96959fe35ee1633ddba37f27543b1a40a89...</td>\n",
       "      <td>Compte-rendu de consultation</td>\n",
       "      <td>Compte-rendu de consultation ContenuPatiente v...</td>\n",
       "      <td>0</td>\n",
       "    </tr>\n",
       "    <tr>\n",
       "      <th>4</th>\n",
       "      <td>67988a7aeaf96959fe35ee1633ddba37f27543b1a40a89...</td>\n",
       "      <td>Compte-rendu de consultation</td>\n",
       "      <td>Compte-rendu de consultation ContenuPatiente v...</td>\n",
       "      <td>0</td>\n",
       "    </tr>\n",
       "  </tbody>\n",
       "</table>\n",
       "</div>"
      ],
      "text/plain": [
       "                                       AnonymizedIpp  \\\n",
       "0  67988a7aeaf96959fe35ee1633ddba37f27543b1a40a89...   \n",
       "1  67988a7aeaf96959fe35ee1633ddba37f27543b1a40a89...   \n",
       "2  67988a7aeaf96959fe35ee1633ddba37f27543b1a40a89...   \n",
       "3  67988a7aeaf96959fe35ee1633ddba37f27543b1a40a89...   \n",
       "4  67988a7aeaf96959fe35ee1633ddba37f27543b1a40a89...   \n",
       "\n",
       "                    SourceTitle  \\\n",
       "0  Compte-rendu de consultation   \n",
       "1  Compte-rendu de consultation   \n",
       "2  Compte-rendu de consultation   \n",
       "3  Compte-rendu de consultation   \n",
       "4  Compte-rendu de consultation   \n",
       "\n",
       "                                                Text  FLAG_dead  \n",
       "0  Compte-rendu de consultation ContenuAvis de co...          0  \n",
       "1  Compte-rendu de consultation ContenuPatiente v...          0  \n",
       "2  Compte-rendu de consultation ContenuPatiente v...          0  \n",
       "3  Compte-rendu de consultation ContenuPatiente v...          0  \n",
       "4  Compte-rendu de consultation ContenuPatiente v...          0  "
      ]
     },
     "execution_count": 2,
     "metadata": {},
     "output_type": "execute_result"
    }
   ],
   "source": [
    "# Read dataframes\n",
    "path_alive = \"C:\\\\Users\\\\DIPIAZZA\\\\Documents\\\\CLB Projet\\\\Data\\\\CLB\\\\6_dossiers\\\\alive_small.json\"\n",
    "path_dead = \"C:\\\\Users\\\\DIPIAZZA\\\\Documents\\\\CLB Projet\\\\Data\\\\CLB\\\\6_dossiers\\\\dead_small.json\"\n",
    "\n",
    "df_alive = pd.read_json(path_alive)\n",
    "df_dead = pd.read_json(path_dead)\n",
    "\n",
    "# Add Flag_dead : 1 if dead, 0 otherwise\n",
    "df_alive['FLAG_dead'] = 0\n",
    "df_dead['FLAG_dead'] = 1\n",
    "\n",
    "# Concatenated dataframe\n",
    "df = pd.concat([df_alive, df_dead])\n",
    "df.head()"
   ]
  },
  {
   "cell_type": "code",
   "execution_count": 3,
   "metadata": {},
   "outputs": [
    {
     "data": {
      "text/plain": [
       "Counter({'67988a7aeaf96959fe35ee1633ddba37f27543b1a40a8984aac93514ab71edfc': 18,\n",
       "         '7555d5fb1736076184e4ff897a13b121522721a8ea90385954c84efd55b745be': 12,\n",
       "         'c983dfdb7db735dc2d53e467b54ac1b9603cb615ebed167e4565715544bb4a8a': 5,\n",
       "         'e996e4ba350ad69af4dd2886606190af40df38c4229f6983ff8945cc53b6c81e': 65,\n",
       "         '54c1bce1dd1e715e3fe315889f1b4a02bf911c562ab67b3e1443c18e30c7b86f': 40,\n",
       "         '616a3d72feb8c58cfdb84ae6d82d18074a440dfd46c680ecd05d059afe3ae8a0': 21,\n",
       "         '7787b59e5fb123a481c094bbecbda9b3ac15bf52810dc7ad2f3192c725b09e84': 5})"
      ]
     },
     "execution_count": 3,
     "metadata": {},
     "output_type": "execute_result"
    }
   ],
   "source": [
    "# Number of unique observation\n",
    "Counter(df['AnonymizedIpp'])"
   ]
  },
  {
   "cell_type": "code",
   "execution_count": 4,
   "metadata": {},
   "outputs": [],
   "source": [
    "dfp = df[df['AnonymizedIpp'] == list(df['AnonymizedIpp'])[0]]"
   ]
  },
  {
   "cell_type": "code",
   "execution_count": 5,
   "metadata": {},
   "outputs": [],
   "source": [
    "seq = dfp['Text'][0]"
   ]
  },
  {
   "cell_type": "code",
   "execution_count": 3,
   "metadata": {},
   "outputs": [],
   "source": [
    "import torch\n",
    "import sentencepiece\n",
    "from transformers import CamembertModel, CamembertTokenizer\n",
    "\n",
    "tokenizer = CamembertTokenizer.from_pretrained(\"camembert-base\")"
   ]
  },
  {
   "cell_type": "code",
   "execution_count": 12,
   "metadata": {},
   "outputs": [],
   "source": [
    "tokenized_sentence = tokenizer.tokenize(seq)"
   ]
  },
  {
   "cell_type": "code",
   "execution_count": 10,
   "metadata": {},
   "outputs": [
    {
     "data": {
      "text/plain": [
       "'c:\\\\Users\\\\DIPIAZZA\\\\Documents\\\\CLB Projet\\\\Projet1\\\\kmembert\\\\KmemBERT\\\\kmembert\\\\preprocessing'"
      ]
     },
     "execution_count": 10,
     "metadata": {},
     "output_type": "execute_result"
    }
   ],
   "source": [
    "os.getcwd()"
   ]
  },
  {
   "cell_type": "code",
   "execution_count": 4,
   "metadata": {},
   "outputs": [
    {
     "ename": "ModuleNotFoundError",
     "evalue": "No module named 'KmemBERT'",
     "output_type": "error",
     "traceback": [
      "\u001b[1;31m---------------------------------------------------------------------------\u001b[0m",
      "\u001b[1;31mModuleNotFoundError\u001b[0m                       Traceback (most recent call last)",
      "\u001b[1;32m~\\AppData\\Local\\Temp\\ipykernel_6988\\548617207.py\u001b[0m in \u001b[0;36m<module>\u001b[1;34m\u001b[0m\n\u001b[0;32m     15\u001b[0m \u001b[1;32mfrom\u001b[0m \u001b[0mtorch\u001b[0m\u001b[1;33m.\u001b[0m\u001b[0mutils\u001b[0m\u001b[1;33m.\u001b[0m\u001b[0mdata\u001b[0m \u001b[1;32mimport\u001b[0m \u001b[0mDataLoader\u001b[0m\u001b[1;33m\u001b[0m\u001b[1;33m\u001b[0m\u001b[0m\n\u001b[0;32m     16\u001b[0m \u001b[1;33m\u001b[0m\u001b[0m\n\u001b[1;32m---> 17\u001b[1;33m \u001b[1;32mfrom\u001b[0m \u001b[0mKmemBERT\u001b[0m\u001b[1;33m.\u001b[0m\u001b[0mkmembert\u001b[0m\u001b[1;33m.\u001b[0m\u001b[0mdataset\u001b[0m \u001b[1;32mimport\u001b[0m \u001b[0mEHRDataset\u001b[0m\u001b[1;33m\u001b[0m\u001b[1;33m\u001b[0m\u001b[0m\n\u001b[0m\u001b[0;32m     18\u001b[0m \u001b[1;32mfrom\u001b[0m \u001b[0mKmemBERT\u001b[0m\u001b[1;33m.\u001b[0m\u001b[0mkmembert\u001b[0m\u001b[1;33m.\u001b[0m\u001b[0mutils\u001b[0m \u001b[1;32mimport\u001b[0m \u001b[0mpretty_time\u001b[0m\u001b[1;33m,\u001b[0m \u001b[0mprintc\u001b[0m\u001b[1;33m,\u001b[0m \u001b[0mcreate_session\u001b[0m\u001b[1;33m,\u001b[0m \u001b[0msave_json\u001b[0m\u001b[1;33m,\u001b[0m \u001b[0mget_label_threshold\u001b[0m\u001b[1;33m,\u001b[0m \u001b[0mget_error\u001b[0m\u001b[1;33m\u001b[0m\u001b[1;33m\u001b[0m\u001b[0m\n\u001b[0;32m     19\u001b[0m \u001b[1;32mfrom\u001b[0m \u001b[0mKmemBERT\u001b[0m\u001b[1;33m.\u001b[0m\u001b[0mkmembert\u001b[0m\u001b[1;33m.\u001b[0m\u001b[0mmodels\u001b[0m \u001b[1;32mimport\u001b[0m \u001b[0mHealthBERT\u001b[0m\u001b[1;33m\u001b[0m\u001b[1;33m\u001b[0m\u001b[0m\n",
      "\u001b[1;31mModuleNotFoundError\u001b[0m: No module named 'KmemBERT'"
     ]
    }
   ],
   "source": [
    "import os\n",
    "import sys\n",
    "module_path = os.path.abspath(os.path.join('..'))\n",
    "if module_path not in sys.path:\n",
    "    sys.path.append(module_path)\n",
    "\n",
    "import numpy as np\n",
    "import os\n",
    "import argparse\n",
    "from time import time\n",
    "from collections import defaultdict\n",
    "import matplotlib.pyplot as plt\n",
    "\n",
    "import torch\n",
    "from torch.utils.data import DataLoader\n",
    "\n",
    "from KmemBERT.kmembert.dataset import EHRDataset\n",
    "from KmemBERT.kmembert.utils import pretty_time, printc, create_session, save_json, get_label_threshold, get_error\n",
    "from KmemBERT.kmembert.models import HealthBERT\n",
    "from KmemBERT.kmembert.testing import test\n",
    "\n",
    "from KmemBERT.kmembert.preprocesser import EHRPreprocesser\n",
    "from KmemBERT.kmembert.utils import get_label, time_survival_to_label, printc"
   ]
  },
  {
   "cell_type": "code",
   "execution_count": 16,
   "metadata": {},
   "outputs": [
    {
     "data": {
      "text/plain": [
       "'c:\\\\Users\\\\DIPIAZZA\\\\Documents\\\\CLB Projet\\\\Projet1\\\\kmembert\\\\KmemBERT\\\\kmembert'"
      ]
     },
     "execution_count": 16,
     "metadata": {},
     "output_type": "execute_result"
    }
   ],
   "source": [
    "module_path"
   ]
  },
  {
   "cell_type": "code",
   "execution_count": null,
   "metadata": {},
   "outputs": [],
   "source": []
  }
 ],
 "metadata": {
  "interpreter": {
   "hash": "d30e282fed7dc5f3c8822663add599cc2401cd25887475aec3f8e89f78362c8f"
  },
  "kernelspec": {
   "display_name": "Python 3.7.11 ('kmembert_env')",
   "language": "python",
   "name": "python3"
  },
  "language_info": {
   "codemirror_mode": {
    "name": "ipython",
    "version": 3
   },
   "file_extension": ".py",
   "mimetype": "text/x-python",
   "name": "python",
   "nbconvert_exporter": "python",
   "pygments_lexer": "ipython3",
   "version": "3.7.11"
  },
  "orig_nbformat": 4
 },
 "nbformat": 4,
 "nbformat_minor": 2
}
