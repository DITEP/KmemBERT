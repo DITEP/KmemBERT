{
 "cells": [
  {
   "cell_type": "code",
   "execution_count": 150,
   "metadata": {},
   "outputs": [],
   "source": [
    "import pandas as pd\n",
    "import json\n",
    "import numpy as np\n",
    "from scipy.stats import pearsonr, spearmanr\n",
    "from sklearn.metrics import f1_score, accuracy_score, balanced_accuracy_score, roc_auc_score, r2_score\n",
    "import scipy"
   ]
  },
  {
   "cell_type": "code",
   "execution_count": 151,
   "metadata": {},
   "outputs": [],
   "source": [
    "f = open(\"../results/test.json\")\n",
    "data = json.load(f)\n",
    "mean_time_survival = 701\n",
    "#data.keys()\n",
    "# lists to arrays\n",
    "labels = np.array(data['labels'])\n",
    "predictions = np.array(data['predictions'])\n",
    "stds = np.array(data['stds'])\n",
    "\n",
    "# Compute values in real scale\n",
    "labels_real = - mean_time_survival*np.log(\n",
    "        np.clip(1-labels, a_min=1e-5, a_max=1))\n",
    "predictions_real = - mean_time_survival*np.log(\n",
    "        np.clip(1-predictions, a_min=1e-5, a_max=1))\n",
    "stds_real =mean_time_survival * stds/(1 - predictions)\n",
    "perfect_std_real = mean_time_survival * stds/(1 - labels)\n",
    "# compute MAE and MAE between elements in real scale\n",
    "mae = np.abs(labels-predictions)\n",
    "mae_real = np.abs(labels_real-predictions_real)\n",
    "\n",
    "# compute correlation coefficients:\n",
    "corr_mae_stds = np.corrcoef(mae, stds)\n",
    "corr_mae_stds_real = np.corrcoef(mae_real, stds_real)\n",
    "\n",
    "# compute correlation between labels and predicttions:\n",
    "corr_label_prediction = np.corrcoef(labels, predictions)\n",
    "corr_label_prediction_real = np.corrcoef(labels_real, predictions_real)\n",
    "\n",
    "# compute r2 score:\n",
    "r2 = r2_score(labels, predictions)\n",
    "r2_real =r2_score(labels_real, predictions_real)\n",
    "\n",
    "# compute pearson correlation with pvalue:\n",
    "pearson_corr_pvalue = pearsonr(labels, predictions)\n",
    "pearson_corr_pvalue_real = pearsonr(labels_real, predictions_real)\n",
    "\n",
    "# compute spearman correlation with pvalue:\n",
    "spearman_corr_pvalue = spearmanr(labels, predictions)\n",
    "spearman_corr_pvalue_real = spearmanr(labels_real, predictions_real)"
   ]
  },
  {
   "cell_type": "code",
   "execution_count": 156,
   "metadata": {},
   "outputs": [],
   "source": [
    "from sklearn.metrics import f1_score, accuracy_score, balanced_accuracy_score, roc_auc_score, r2_score, confusion_matrix\n",
    "import matplotlib.pyplot as plt\n",
    "import seaborn as sns\n",
    "\n",
    "def compute_metrics(labels, predictions_real,predictions, thresh = 701):\n",
    "    metrics = dict()\n",
    "    new_thresh = 1 - np.exp(-thresh/701)\n",
    "    \n",
    "    new_labels = (labels>=thresh).astype(int)\n",
    "    new_predictions = (predictions_real>=thresh).astype(int)\n",
    "    metrics[\"f1_score\"] = f1_score(new_labels, new_predictions, average = None).tolist()\n",
    "    metrics[\"accuracy\"] = accuracy_score(new_labels, new_predictions)\n",
    "    metrics[\"balanced_accuracy\"] = balanced_accuracy_score(new_labels, new_predictions)\n",
    "    metrics[\"auc\"] = roc_auc_score(new_labels, predictions-new_thresh+0.5).tolist()\n",
    "    \n",
    "    cm = confusion_matrix(new_labels, new_predictions)\n",
    "    cm_df = pd.DataFrame(cm,\n",
    "                        index = [0, 1], \n",
    "                        columns = [0, 1])\n",
    "\n",
    "    # Plot the confusion Matrix\n",
    "    \n",
    "    plt.figure(figsize=(10,6))\n",
    "    sns.heatmap(cm_df, annot=True)\n",
    "    plt.title('Confusion Matrix for mean follow-up threshold (701 days)')\n",
    "    plt.ylabel('Actual Values')\n",
    "    plt.xlabel('Predicted Values')\n",
    "    plt.show()\n",
    "    #plt.savefig(os.path.join(path_results, f\"confusion_matrix_{thresh}.png\"))\n",
    "    return metrics"
   ]
  },
  {
   "cell_type": "code",
   "execution_count": 157,
   "metadata": {},
   "outputs": [
    {
     "data": {
      "image/png": "[encoded data removed]",
      "text/plain": [
       "<Figure size 720x432 with 2 Axes>"
      ]
     },
     "metadata": {
      "needs_background": "light"
     },
     "output_type": "display_data"
    },
    {
     "data": {
      "text/plain": [
       "{'f1_score': [0.8509427414690572, 0.5477009477009478],\n",
       " 'accuracy': 0.7757786671306769,\n",
       " 'balanced_accuracy': 0.6834119773522016,\n",
       " 'auc': 0.827122627376913}"
      ]
     },
     "execution_count": 157,
     "metadata": {},
     "output_type": "execute_result"
    }
   ],
   "source": [
    "compute_metrics(labels_real, predictions_real,predictions,  701)"
   ]
  },
  {
   "cell_type": "code",
   "execution_count": null,
   "metadata": {},
   "outputs": [],
   "source": []
  }
 ],
 "metadata": {
  "kernelspec": {
   "display_name": "Python 3.5.2 64-bit",
   "language": "python",
   "name": "python3"
  },
  "language_info": {
   "codemirror_mode": {
    "name": "ipython",
    "version": 3
   },
   "file_extension": ".py",
   "mimetype": "text/x-python",
   "name": "python",
   "nbconvert_exporter": "python",
   "pygments_lexer": "ipython3",
   "version": "3.8.9"
  },
  "orig_nbformat": 4,
  "vscode": {
   "interpreter": {
    "hash": "31f2aee4e71d21fbe5cf8b01ff0e069b9275f58929596ceb00d14d90e3e16cd6"
   }
  }
 },
 "nbformat": 4,
 "nbformat_minor": 2
}
