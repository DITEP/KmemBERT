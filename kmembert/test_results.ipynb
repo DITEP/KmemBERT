{
 "cells": [
  {
   "cell_type": "code",
   "execution_count": 1,
   "metadata": {},
   "outputs": [],
   "source": [
    "import pandas as pd\n",
    "import json\n",
    "import numpy as np"
   ]
  },
  {
   "cell_type": "code",
   "execution_count": 80,
   "metadata": {},
   "outputs": [],
   "source": [
    "f = open(\"../results/test.json\")\n",
    "data = json.load(f)\n",
    "mean_time_survival = 701\n",
    "#data.keys()\n",
    "# lists to arrays\n",
    "labels = np.array(data['labels'])\n",
    "predictions = np.array(data['predictions'])\n",
    "stds = np.array(data['stds'])\n",
    "\n",
    "# Compute values in real scale\n",
    "labels_real = - mean_time_survival*np.log(\n",
    "        np.clip(1-labels, a_min=1e-5, a_max=1))\n",
    "predictions_real = - mean_time_survival*np.log(\n",
    "        np.clip(1-predictions, a_min=1e-5, a_max=1))\n",
    "stds_real =mean_time_survival * stds/(1 - predictions)\n",
    "perfect_std_real = mean_time_survival * stds/(1 - labels)\n",
    "# compute MAE and MAE between elements in real scale\n",
    "mae = np.abs(labels-predictions)\n",
    "mae_real = np.abs(labels_real-predictions_real)\n",
    "\n",
    "# compute correlation coefficients:\n",
    "corr_mae_stds = np.corrcoef(mae, stds)\n",
    "corr_mae_stds_real = np.corrcoef(mae_real, stds_real)\n",
    "\n",
    "# compute correlation between labels and predicttions:\n",
    "corr_label_prediction = np.corrcoef(labels, predictions)\n",
    "corr_label_prediction_real = np.corrcoef(labels_real, predictions_real)\n",
    "\n",
    "# compute r2 score:\n",
    "r2 = r2_score(labels, predictions)\n",
    "r2_real =r2_score(labels_real, predictions_real)\n"
   ]
  },
  {
   "cell_type": "code",
   "execution_count": 60,
   "metadata": {},
   "outputs": [
    {
     "data": {
      "text/plain": [
       "485.89617357252166"
      ]
     },
     "execution_count": 60,
     "metadata": {},
     "output_type": "execute_result"
    }
   ],
   "source": [
    "- mean_time_survival*np.log(\n",
    "        np.clip(1-0.5, a_min=1e-5, a_max=1))"
   ]
  },
  {
   "cell_type": "code",
   "execution_count": 75,
   "metadata": {},
   "outputs": [
    {
     "data": {
      "text/plain": [
       "array([[1.        , 0.27889015],\n",
       "       [0.27889015, 1.        ]])"
      ]
     },
     "execution_count": 75,
     "metadata": {},
     "output_type": "execute_result"
    }
   ],
   "source": [
    "corr_mae_stds"
   ]
  },
  {
   "cell_type": "code",
   "execution_count": 76,
   "metadata": {},
   "outputs": [
    {
     "data": {
      "text/plain": [
       "array([[1.       , 0.3765505],\n",
       "       [0.3765505, 1.       ]])"
      ]
     },
     "execution_count": 76,
     "metadata": {},
     "output_type": "execute_result"
    }
   ],
   "source": [
    "corr_mae_stds_real"
   ]
  },
  {
   "cell_type": "code",
   "execution_count": 78,
   "metadata": {},
   "outputs": [
    {
     "data": {
      "text/plain": [
       "array([[1.        , 0.52902662],\n",
       "       [0.52902662, 1.        ]])"
      ]
     },
     "execution_count": 78,
     "metadata": {},
     "output_type": "execute_result"
    }
   ],
   "source": [
    "corr_label_prediction_real"
   ]
  },
  {
   "cell_type": "code",
   "execution_count": 81,
   "metadata": {},
   "outputs": [
    {
     "data": {
      "text/plain": [
       "0.4246883745047396"
      ]
     },
     "execution_count": 81,
     "metadata": {},
     "output_type": "execute_result"
    }
   ],
   "source": [
    "r2"
   ]
  },
  {
   "cell_type": "code",
   "execution_count": 82,
   "metadata": {},
   "outputs": [
    {
     "data": {
      "text/plain": [
       "0.18057203564396984"
      ]
     },
     "execution_count": 82,
     "metadata": {},
     "output_type": "execute_result"
    }
   ],
   "source": [
    "r2_real"
   ]
  },
  {
   "cell_type": "code",
   "execution_count": 83,
   "metadata": {},
   "outputs": [],
   "source": [
    "from sklearn.metrics import f1_score, accuracy_score, balanced_accuracy_score, roc_auc_score, r2_score\n",
    "def compute_metrics(labels, predictions_real,predictions, thresh = 701):\n",
    "    metrics = dict()\n",
    "    new_thresh = 1 - np.exp(-thresh/701)\n",
    "    \n",
    "    new_labels = (labels>=thresh).astype(int)\n",
    "    new_predictions = (predictions_real>=thresh).astype(int)\n",
    "    metrics[\"f1_score\"] = f1_score(new_labels, new_predictions, average = None).tolist()\n",
    "    metrics[\"accuracy\"] = accuracy_score(new_labels, new_predictions)\n",
    "    metrics[\"balanced_accuracy\"] = balanced_accuracy_score(new_labels, new_predictions)\n",
    "    metrics[\"auc\"] = roc_auc_score(new_labels, predictions-new_thresh+0.5).tolist()\n",
    "    return metrics"
   ]
  },
  {
   "cell_type": "code",
   "execution_count": 88,
   "metadata": {},
   "outputs": [
    {
     "data": {
      "text/plain": [
       "{'f1_score': [0.7322976750769666, 0.7410222176577318],\n",
       " 'accuracy': 0.7367322081085784,\n",
       " 'balanced_accuracy': 0.7370445255995883,\n",
       " 'auc': 0.8173160981766858}"
      ]
     },
     "execution_count": 88,
     "metadata": {},
     "output_type": "execute_result"
    }
   ],
   "source": [
    "compute_metrics(labels_real, predictions_real,predictions,  365)"
   ]
  }
 ],
 "metadata": {
  "kernelspec": {
   "display_name": "Python 3.5.2 64-bit",
   "language": "python",
   "name": "python3"
  },
  "language_info": {
   "codemirror_mode": {
    "name": "ipython",
    "version": 3
   },
   "file_extension": ".py",
   "mimetype": "text/x-python",
   "name": "python",
   "nbconvert_exporter": "python",
   "pygments_lexer": "ipython3",
   "version": "3.8.9"
  },
  "orig_nbformat": 4,
  "vscode": {
   "interpreter": {
    "hash": "31f2aee4e71d21fbe5cf8b01ff0e069b9275f58929596ceb00d14d90e3e16cd6"
   }
  }
 },
 "nbformat": 4,
 "nbformat_minor": 2
}
