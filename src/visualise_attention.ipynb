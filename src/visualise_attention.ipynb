{
 "cells": [
  {
   "cell_type": "code",
   "execution_count": 2,
   "metadata": {},
   "outputs": [
    {
     "output_type": "execute_result",
     "data": {
      "text/plain": [
       "' import os\\n\\nimport torch\\nfrom transformers import CamembertForSequenceClassification, CamembertTokenizerFast\\n\\nfrom bertviz import head_view '"
      ]
     },
     "metadata": {},
     "execution_count": 2
    }
   ],
   "source": [
    "import os\n",
    "\n",
    "import torch\n",
    "from transformers import CamembertForSequenceClassification, CamembertTokenizerFast\n",
    "\n",
    "from bertviz import head_view"
   ]
  },
  {
   "source": [
    "## Load the model with a checkpoint"
   ],
   "cell_type": "markdown",
   "metadata": {}
  },
  {
   "cell_type": "code",
   "execution_count": 3,
   "metadata": {},
   "outputs": [],
   "source": [
    "PATH_TO_CKPT = \"\"\n",
    "model = CamembertForSequenceClassification.from_pretrained(\n",
    "            \"camembert-base\", num_labels=1, output_attentions=True)\n",
    "path_checkpoint = os.path.join(args.ckpt_folder, 'checkpoint.pth')\n",
    "checkpoint = torch.load(path_checkpoint, map_location=model.device)\n",
    "model.load_state_dict(checkpoint['model'])\n",
    "tokenizer = checkpoint['tokenizer']"
   ]
  },
  {
   "source": [
    "## Function to visualise attention"
   ],
   "cell_type": "markdown",
   "metadata": {}
  },
  {
   "cell_type": "code",
   "execution_count": null,
   "metadata": {},
   "outputs": [],
   "source": [
    "def show_attention(sentence):\n",
    "    inputs = tokenizer.encode(sentence, return_tensors='pt')\n",
    "    outputs = model(inputs)\n",
    "    attention = outputs[-1]  \n",
    "    tokens = tokenizer.convert_ids_to_tokens(inputs[0])\n",
    "    head_view(attention, tokens) "
   ]
  },
  {
   "source": [
    "#### Change the sentence variable to visualise the attention mechanism on it. "
   ],
   "cell_type": "markdown",
   "metadata": {}
  },
  {
   "cell_type": "code",
   "execution_count": null,
   "metadata": {},
   "outputs": [],
   "source": [
    "sentence  = \"The cat stays on the boat\"\n",
    "show_attention(sentence)"
   ]
  }
 ],
 "metadata": {
  "kernelspec": {
   "display_name": "Python 3",
   "language": "python",
   "name": "python3"
  },
  "language_info": {
   "codemirror_mode": {
    "name": "ipython",
    "version": 3
   },
   "file_extension": ".py",
   "mimetype": "text/x-python",
   "name": "python",
   "nbconvert_exporter": "python",
   "pygments_lexer": "ipython3",
   "version": "3.7.9-final"
  }
 },
 "nbformat": 4,
 "nbformat_minor": 2
}